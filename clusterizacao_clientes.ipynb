{
 "cells": [
  {
   "cell_type": "code",
   "execution_count": 31,
   "metadata": {},
   "outputs": [],
   "source": [
    "# pipenv install pandas plotly scikit-learn optuna ipywidgets ipykernel nbformat gradio\n",
    "\n",
    "import pandas as pd\n",
    "import numpy as np\n",
    "import plotly.express as px\n",
    "pd.set_option('display.float_format', lambda x: '%.2f' % x)\n",
    "np.set_printoptions(suppress=True, precision=10)\n",
    "\n",
    "from sklearn.mixture import GaussianMixture\n",
    "from sklearn.preprocessing import StandardScaler, OneHotEncoder, OrdinalEncoder\n",
    "from sklearn.compose import ColumnTransformer\n",
    "\n",
    "import optuna"
   ]
  },
  {
   "cell_type": "markdown",
   "metadata": {},
   "source": [
    "### Carregar os dados"
   ]
  },
  {
   "cell_type": "code",
   "execution_count": 32,
   "metadata": {},
   "outputs": [],
   "source": [
    "df_clientes = pd.read_csv('./datasets/dataset_clientes_pj.csv')"
   ]
  },
  {
   "cell_type": "code",
   "execution_count": 33,
   "metadata": {},
   "outputs": [
    {
     "name": "stdout",
     "output_type": "stream",
     "text": [
      "<class 'pandas.core.frame.DataFrame'>\n",
      "RangeIndex: 500 entries, 0 to 499\n",
      "Data columns (total 6 columns):\n",
      " #   Column                  Non-Null Count  Dtype  \n",
      "---  ------                  --------------  -----  \n",
      " 0   atividade_economica     500 non-null    object \n",
      " 1   faturamento_mensal      500 non-null    float64\n",
      " 2   numero_de_funcionarios  500 non-null    int64  \n",
      " 3   localizacao             500 non-null    object \n",
      " 4   idade                   500 non-null    int64  \n",
      " 5   inovacao                500 non-null    int64  \n",
      "dtypes: float64(1), int64(3), object(2)\n",
      "memory usage: 23.6+ KB\n"
     ]
    }
   ],
   "source": [
    "# Visualizar a estrutura\n",
    "df_clientes.info()"
   ]
  },
  {
   "cell_type": "code",
   "execution_count": 34,
   "metadata": {},
   "outputs": [
    {
     "data": {
      "text/html": [
       "<div>\n",
       "<style scoped>\n",
       "    .dataframe tbody tr th:only-of-type {\n",
       "        vertical-align: middle;\n",
       "    }\n",
       "\n",
       "    .dataframe tbody tr th {\n",
       "        vertical-align: top;\n",
       "    }\n",
       "\n",
       "    .dataframe thead th {\n",
       "        text-align: right;\n",
       "    }\n",
       "</style>\n",
       "<table border=\"1\" class=\"dataframe\">\n",
       "  <thead>\n",
       "    <tr style=\"text-align: right;\">\n",
       "      <th></th>\n",
       "      <th>atividade_economica</th>\n",
       "      <th>faturamento_mensal</th>\n",
       "      <th>numero_de_funcionarios</th>\n",
       "      <th>localizacao</th>\n",
       "      <th>idade</th>\n",
       "      <th>inovacao</th>\n",
       "    </tr>\n",
       "  </thead>\n",
       "  <tbody>\n",
       "    <tr>\n",
       "      <th>0</th>\n",
       "      <td>Comércio</td>\n",
       "      <td>713109.95</td>\n",
       "      <td>12</td>\n",
       "      <td>Rio de Janeiro</td>\n",
       "      <td>6</td>\n",
       "      <td>1</td>\n",
       "    </tr>\n",
       "    <tr>\n",
       "      <th>1</th>\n",
       "      <td>Comércio</td>\n",
       "      <td>790714.38</td>\n",
       "      <td>9</td>\n",
       "      <td>São Paulo</td>\n",
       "      <td>15</td>\n",
       "      <td>0</td>\n",
       "    </tr>\n",
       "    <tr>\n",
       "      <th>2</th>\n",
       "      <td>Comércio</td>\n",
       "      <td>1197239.33</td>\n",
       "      <td>17</td>\n",
       "      <td>São Paulo</td>\n",
       "      <td>4</td>\n",
       "      <td>9</td>\n",
       "    </tr>\n",
       "    <tr>\n",
       "      <th>3</th>\n",
       "      <td>Indústria</td>\n",
       "      <td>449185.78</td>\n",
       "      <td>15</td>\n",
       "      <td>São Paulo</td>\n",
       "      <td>6</td>\n",
       "      <td>0</td>\n",
       "    </tr>\n",
       "    <tr>\n",
       "      <th>4</th>\n",
       "      <td>Agronegócio</td>\n",
       "      <td>1006373.16</td>\n",
       "      <td>15</td>\n",
       "      <td>São Paulo</td>\n",
       "      <td>15</td>\n",
       "      <td>8</td>\n",
       "    </tr>\n",
       "    <tr>\n",
       "      <th>5</th>\n",
       "      <td>Serviços</td>\n",
       "      <td>1629562.41</td>\n",
       "      <td>16</td>\n",
       "      <td>Rio de Janeiro</td>\n",
       "      <td>11</td>\n",
       "      <td>4</td>\n",
       "    </tr>\n",
       "    <tr>\n",
       "      <th>6</th>\n",
       "      <td>Serviços</td>\n",
       "      <td>771179.95</td>\n",
       "      <td>13</td>\n",
       "      <td>Vitória</td>\n",
       "      <td>0</td>\n",
       "      <td>1</td>\n",
       "    </tr>\n",
       "    <tr>\n",
       "      <th>7</th>\n",
       "      <td>Serviços</td>\n",
       "      <td>707837.61</td>\n",
       "      <td>16</td>\n",
       "      <td>São Paulo</td>\n",
       "      <td>10</td>\n",
       "      <td>6</td>\n",
       "    </tr>\n",
       "    <tr>\n",
       "      <th>8</th>\n",
       "      <td>Comércio</td>\n",
       "      <td>888983.66</td>\n",
       "      <td>17</td>\n",
       "      <td>Belo Horizonte</td>\n",
       "      <td>10</td>\n",
       "      <td>1</td>\n",
       "    </tr>\n",
       "    <tr>\n",
       "      <th>9</th>\n",
       "      <td>Indústria</td>\n",
       "      <td>1098512.64</td>\n",
       "      <td>13</td>\n",
       "      <td>Rio de Janeiro</td>\n",
       "      <td>9</td>\n",
       "      <td>3</td>\n",
       "    </tr>\n",
       "  </tbody>\n",
       "</table>\n",
       "</div>"
      ],
      "text/plain": [
       "  atividade_economica  faturamento_mensal  numero_de_funcionarios  \\\n",
       "0            Comércio           713109.95                      12   \n",
       "1            Comércio           790714.38                       9   \n",
       "2            Comércio          1197239.33                      17   \n",
       "3           Indústria           449185.78                      15   \n",
       "4         Agronegócio          1006373.16                      15   \n",
       "5            Serviços          1629562.41                      16   \n",
       "6            Serviços           771179.95                      13   \n",
       "7            Serviços           707837.61                      16   \n",
       "8            Comércio           888983.66                      17   \n",
       "9           Indústria          1098512.64                      13   \n",
       "\n",
       "      localizacao  idade  inovacao  \n",
       "0  Rio de Janeiro      6         1  \n",
       "1       São Paulo     15         0  \n",
       "2       São Paulo      4         9  \n",
       "3       São Paulo      6         0  \n",
       "4       São Paulo     15         8  \n",
       "5  Rio de Janeiro     11         4  \n",
       "6         Vitória      0         1  \n",
       "7       São Paulo     10         6  \n",
       "8  Belo Horizonte     10         1  \n",
       "9  Rio de Janeiro      9         3  "
      ]
     },
     "execution_count": 34,
     "metadata": {},
     "output_type": "execute_result"
    }
   ],
   "source": [
    "# Visualizar os primeiros registros\n",
    "df_clientes.head(10)"
   ]
  },
  {
   "cell_type": "code",
   "execution_count": 35,
   "metadata": {},
   "outputs": [
    {
     "data": {
      "text/html": [
       "<div>\n",
       "<style scoped>\n",
       "    .dataframe tbody tr th:only-of-type {\n",
       "        vertical-align: middle;\n",
       "    }\n",
       "\n",
       "    .dataframe tbody tr th {\n",
       "        vertical-align: top;\n",
       "    }\n",
       "\n",
       "    .dataframe thead th {\n",
       "        text-align: right;\n",
       "    }\n",
       "</style>\n",
       "<table border=\"1\" class=\"dataframe\">\n",
       "  <thead>\n",
       "    <tr style=\"text-align: right;\">\n",
       "      <th></th>\n",
       "      <th>atividade_economica</th>\n",
       "      <th>faturamento_mensal</th>\n",
       "      <th>numero_de_funcionarios</th>\n",
       "      <th>localizacao</th>\n",
       "      <th>idade</th>\n",
       "      <th>inovacao</th>\n",
       "    </tr>\n",
       "  </thead>\n",
       "  <tbody>\n",
       "    <tr>\n",
       "      <th>490</th>\n",
       "      <td>Indústria</td>\n",
       "      <td>215580.61</td>\n",
       "      <td>11</td>\n",
       "      <td>Belo Horizonte</td>\n",
       "      <td>7</td>\n",
       "      <td>3</td>\n",
       "    </tr>\n",
       "    <tr>\n",
       "      <th>491</th>\n",
       "      <td>Serviços</td>\n",
       "      <td>1050776.57</td>\n",
       "      <td>14</td>\n",
       "      <td>Vitória</td>\n",
       "      <td>8</td>\n",
       "      <td>0</td>\n",
       "    </tr>\n",
       "    <tr>\n",
       "      <th>492</th>\n",
       "      <td>Comércio</td>\n",
       "      <td>785671.05</td>\n",
       "      <td>15</td>\n",
       "      <td>Vitória</td>\n",
       "      <td>9</td>\n",
       "      <td>2</td>\n",
       "    </tr>\n",
       "    <tr>\n",
       "      <th>493</th>\n",
       "      <td>Serviços</td>\n",
       "      <td>658330.45</td>\n",
       "      <td>20</td>\n",
       "      <td>Belo Horizonte</td>\n",
       "      <td>4</td>\n",
       "      <td>8</td>\n",
       "    </tr>\n",
       "    <tr>\n",
       "      <th>494</th>\n",
       "      <td>Agronegócio</td>\n",
       "      <td>1643153.26</td>\n",
       "      <td>14</td>\n",
       "      <td>Rio de Janeiro</td>\n",
       "      <td>10</td>\n",
       "      <td>1</td>\n",
       "    </tr>\n",
       "    <tr>\n",
       "      <th>495</th>\n",
       "      <td>Serviços</td>\n",
       "      <td>1581841.42</td>\n",
       "      <td>17</td>\n",
       "      <td>Rio de Janeiro</td>\n",
       "      <td>8</td>\n",
       "      <td>2</td>\n",
       "    </tr>\n",
       "    <tr>\n",
       "      <th>496</th>\n",
       "      <td>Indústria</td>\n",
       "      <td>1291309.57</td>\n",
       "      <td>9</td>\n",
       "      <td>São Paulo</td>\n",
       "      <td>6</td>\n",
       "      <td>9</td>\n",
       "    </tr>\n",
       "    <tr>\n",
       "      <th>497</th>\n",
       "      <td>Serviços</td>\n",
       "      <td>2211489.85</td>\n",
       "      <td>10</td>\n",
       "      <td>Belo Horizonte</td>\n",
       "      <td>10</td>\n",
       "      <td>0</td>\n",
       "    </tr>\n",
       "    <tr>\n",
       "      <th>498</th>\n",
       "      <td>Agronegócio</td>\n",
       "      <td>1460860.46</td>\n",
       "      <td>12</td>\n",
       "      <td>Rio de Janeiro</td>\n",
       "      <td>5</td>\n",
       "      <td>3</td>\n",
       "    </tr>\n",
       "    <tr>\n",
       "      <th>499</th>\n",
       "      <td>Indústria</td>\n",
       "      <td>173684.43</td>\n",
       "      <td>13</td>\n",
       "      <td>Belo Horizonte</td>\n",
       "      <td>4</td>\n",
       "      <td>9</td>\n",
       "    </tr>\n",
       "  </tbody>\n",
       "</table>\n",
       "</div>"
      ],
      "text/plain": [
       "    atividade_economica  faturamento_mensal  numero_de_funcionarios  \\\n",
       "490           Indústria           215580.61                      11   \n",
       "491            Serviços          1050776.57                      14   \n",
       "492            Comércio           785671.05                      15   \n",
       "493            Serviços           658330.45                      20   \n",
       "494         Agronegócio          1643153.26                      14   \n",
       "495            Serviços          1581841.42                      17   \n",
       "496           Indústria          1291309.57                       9   \n",
       "497            Serviços          2211489.85                      10   \n",
       "498         Agronegócio          1460860.46                      12   \n",
       "499           Indústria           173684.43                      13   \n",
       "\n",
       "        localizacao  idade  inovacao  \n",
       "490  Belo Horizonte      7         3  \n",
       "491         Vitória      8         0  \n",
       "492         Vitória      9         2  \n",
       "493  Belo Horizonte      4         8  \n",
       "494  Rio de Janeiro     10         1  \n",
       "495  Rio de Janeiro      8         2  \n",
       "496       São Paulo      6         9  \n",
       "497  Belo Horizonte     10         0  \n",
       "498  Rio de Janeiro      5         3  \n",
       "499  Belo Horizonte      4         9  "
      ]
     },
     "execution_count": 35,
     "metadata": {},
     "output_type": "execute_result"
    }
   ],
   "source": [
    "# Visualizar os últimos registros\n",
    "df_clientes.tail(10)"
   ]
  },
  {
   "cell_type": "code",
   "execution_count": 36,
   "metadata": {},
   "outputs": [
    {
     "data": {
      "text/html": [
       "<div>\n",
       "<style scoped>\n",
       "    .dataframe tbody tr th:only-of-type {\n",
       "        vertical-align: middle;\n",
       "    }\n",
       "\n",
       "    .dataframe tbody tr th {\n",
       "        vertical-align: top;\n",
       "    }\n",
       "\n",
       "    .dataframe thead th {\n",
       "        text-align: right;\n",
       "    }\n",
       "</style>\n",
       "<table border=\"1\" class=\"dataframe\">\n",
       "  <thead>\n",
       "    <tr style=\"text-align: right;\">\n",
       "      <th></th>\n",
       "      <th>faturamento_mensal</th>\n",
       "      <th>numero_de_funcionarios</th>\n",
       "      <th>idade</th>\n",
       "      <th>inovacao</th>\n",
       "    </tr>\n",
       "  </thead>\n",
       "  <tbody>\n",
       "    <tr>\n",
       "      <th>count</th>\n",
       "      <td>500.00</td>\n",
       "      <td>500.00</td>\n",
       "      <td>500.00</td>\n",
       "      <td>500.00</td>\n",
       "    </tr>\n",
       "    <tr>\n",
       "      <th>mean</th>\n",
       "      <td>1026715.63</td>\n",
       "      <td>13.69</td>\n",
       "      <td>9.25</td>\n",
       "      <td>4.39</td>\n",
       "    </tr>\n",
       "    <tr>\n",
       "      <th>std</th>\n",
       "      <td>420609.46</td>\n",
       "      <td>3.12</td>\n",
       "      <td>2.96</td>\n",
       "      <td>2.90</td>\n",
       "    </tr>\n",
       "    <tr>\n",
       "      <th>min</th>\n",
       "      <td>18421.22</td>\n",
       "      <td>2.00</td>\n",
       "      <td>0.00</td>\n",
       "      <td>0.00</td>\n",
       "    </tr>\n",
       "    <tr>\n",
       "      <th>25%</th>\n",
       "      <td>763253.58</td>\n",
       "      <td>12.00</td>\n",
       "      <td>7.00</td>\n",
       "      <td>2.00</td>\n",
       "    </tr>\n",
       "    <tr>\n",
       "      <th>50%</th>\n",
       "      <td>1022957.08</td>\n",
       "      <td>14.00</td>\n",
       "      <td>9.00</td>\n",
       "      <td>4.00</td>\n",
       "    </tr>\n",
       "    <tr>\n",
       "      <th>75%</th>\n",
       "      <td>1295888.52</td>\n",
       "      <td>16.00</td>\n",
       "      <td>11.00</td>\n",
       "      <td>7.00</td>\n",
       "    </tr>\n",
       "    <tr>\n",
       "      <th>max</th>\n",
       "      <td>2390677.22</td>\n",
       "      <td>21.00</td>\n",
       "      <td>16.00</td>\n",
       "      <td>9.00</td>\n",
       "    </tr>\n",
       "  </tbody>\n",
       "</table>\n",
       "</div>"
      ],
      "text/plain": [
       "       faturamento_mensal  numero_de_funcionarios  idade  inovacao\n",
       "count              500.00                  500.00 500.00    500.00\n",
       "mean           1026715.63                   13.69   9.25      4.39\n",
       "std             420609.46                    3.12   2.96      2.90\n",
       "min              18421.22                    2.00   0.00      0.00\n",
       "25%             763253.58                   12.00   7.00      2.00\n",
       "50%            1022957.08                   14.00   9.00      4.00\n",
       "75%            1295888.52                   16.00  11.00      7.00\n",
       "max            2390677.22                   21.00  16.00      9.00"
      ]
     },
     "execution_count": 36,
     "metadata": {},
     "output_type": "execute_result"
    }
   ],
   "source": [
    "# Medidas estatísticas\n",
    "df_clientes.describe()"
   ]
  },
  {
   "cell_type": "markdown",
   "metadata": {},
   "source": [
    "### Preparar dados para execução do modelo GMM"
   ]
  },
  {
   "cell_type": "code",
   "execution_count": 37,
   "metadata": {},
   "outputs": [],
   "source": [
    "# Selecionar as colunas relevantes para a clusterização\n",
    "X = df_clientes.copy()\n",
    "\n",
    "# Separar variáveis por tipo para aplicar o ColumnTransformer\n",
    "numeric_features = ['faturamento_mensal', 'numero_de_funcionarios', 'idade']\n",
    "categorial_features = ['localizacao', 'atividade_economica']\n",
    "ordinal_features = ['inovacao']\n",
    "\n",
    "# Criar as transformações a serem aplicadas\n",
    "numeric_transformer = StandardScaler()\n",
    "categorial_transformer = OneHotEncoder()\n",
    "ordinal_transformer = OrdinalEncoder()\n",
    "\n",
    "# Criar o ColumnTransformer\n",
    "preprocessor = ColumnTransformer(\n",
    "    transformers=[\n",
    "        ('num', numeric_transformer, numeric_features),\n",
    "        ('cat', categorial_transformer, categorial_features),\n",
    "        ('ord', ordinal_transformer, ordinal_features)\n",
    "    ]\n",
    ")\n",
    "\n",
    "# Transformar os dados\n",
    "X_transformed = preprocessor.fit_transform(X)"
   ]
  },
  {
   "cell_type": "code",
   "execution_count": 38,
   "metadata": {},
   "outputs": [
    {
     "data": {
      "text/plain": [
       "array([[-0.7463449774, -0.5417919104, -1.1005884861, ...,  0.          ,\n",
       "         0.          ,  1.          ],\n",
       "       [-0.5616554761, -1.5035526981,  1.9434485069, ...,  0.          ,\n",
       "         0.          ,  0.          ],\n",
       "       [ 0.4058265391,  1.0611427358, -1.7770411512, ...,  0.          ,\n",
       "         0.          ,  9.          ],\n",
       "       ...,\n",
       "       [ 2.8196246022, -1.1829657689,  0.2523168441, ...,  0.          ,\n",
       "         1.          ,  0.          ],\n",
       "       [ 1.0332141129, -0.5417919104, -1.4388148187, ...,  0.          ,\n",
       "         0.          ,  3.          ],\n",
       "       [-2.0301148644, -0.2212049812, -1.7770411512, ...,  1.          ,\n",
       "         0.          ,  9.          ]], shape=(500, 12))"
      ]
     },
     "execution_count": 38,
     "metadata": {},
     "output_type": "execute_result"
    }
   ],
   "source": [
    "# Visualizar X_transformed\n",
    "X_transformed"
   ]
  },
  {
   "cell_type": "markdown",
   "metadata": {},
   "source": [
    "### Treinar o modelo GMM"
   ]
  },
  {
   "cell_type": "code",
   "execution_count": 39,
   "metadata": {},
   "outputs": [],
   "source": [
    "# Criar função para executar no Optuna\n",
    "def gmm_objective(trial):\n",
    "    # Definindo os hiper parâmetros a serem ajustados\n",
    "    n_components = trial.suggest_int('n_components', 3, 10)\n",
    "    covariance_type = trial.suggest_categorical('covariance_type', ['full', 'tied', 'diag', 'spherical'])\n",
    "\n",
    "    # Instanciar o modelo GMM com os hiper parâmetros\n",
    "    gmm = GaussianMixture(n_components=n_components, covariance_type=covariance_type, random_state=51)\n",
    "\n",
    "    # Treinar modelo nos dados\n",
    "    gmm.fit(X_transformed)\n",
    "\n",
    "    # Calculando o BIC (Bayesion Information Criteria)\n",
    "    bic_gmm = gmm.bic(X_transformed)\n",
    "\n",
    "    return bic_gmm"
   ]
  },
  {
   "cell_type": "code",
   "execution_count": 40,
   "metadata": {},
   "outputs": [
    {
     "name": "stderr",
     "output_type": "stream",
     "text": [
      "[I 2025-04-06 11:43:00,753] A new study created in memory with name: no-name-49da5a9d-dd38-4c38-b944-74f332237392\n"
     ]
    }
   ],
   "source": [
    "# Criar um estudo do Optuna\n",
    "search_space = { 'n_components': [3, 4, 5, 6, 7, 8, 9, 10], 'covariance_type': ['full', 'tied', 'diag', 'spherical'] }\n",
    "sampler = optuna.samplers.GridSampler(search_space=search_space)\n",
    "estudo_gmm = optuna.create_study(direction='maximize', sampler=sampler)"
   ]
  },
  {
   "cell_type": "code",
   "execution_count": 41,
   "metadata": {},
   "outputs": [
    {
     "name": "stderr",
     "output_type": "stream",
     "text": [
      "[I 2025-04-06 11:43:00,832] Trial 0 finished with value: -177.47638666272076 and parameters: {'n_components': 6, 'covariance_type': 'tied'}. Best is trial 0 with value: -177.47638666272076.\n",
      "[I 2025-04-06 11:43:00,880] Trial 1 finished with value: -23479.73180905732 and parameters: {'n_components': 9, 'covariance_type': 'diag'}. Best is trial 0 with value: -177.47638666272076.\n",
      "[I 2025-04-06 11:43:00,923] Trial 2 finished with value: -239.16103281787593 and parameters: {'n_components': 5, 'covariance_type': 'tied'}. Best is trial 0 with value: -177.47638666272076.\n",
      "[I 2025-04-06 11:43:01,057] Trial 3 finished with value: -16669.227646667754 and parameters: {'n_components': 5, 'covariance_type': 'full'}. Best is trial 0 with value: -177.47638666272076.\n",
      "[I 2025-04-06 11:43:01,074] Trial 4 finished with value: 1570.0096069170763 and parameters: {'n_components': 3, 'covariance_type': 'diag'}. Best is trial 4 with value: 1570.0096069170763.\n",
      "[I 2025-04-06 11:43:01,134] Trial 5 finished with value: -18618.230056018707 and parameters: {'n_components': 9, 'covariance_type': 'tied'}. Best is trial 4 with value: 1570.0096069170763.\n",
      "[I 2025-04-06 11:43:01,154] Trial 6 finished with value: 13137.301314995799 and parameters: {'n_components': 7, 'covariance_type': 'spherical'}. Best is trial 6 with value: 13137.301314995799.\n",
      "[I 2025-04-06 11:43:01,172] Trial 7 finished with value: 13234.274506436135 and parameters: {'n_components': 5, 'covariance_type': 'spherical'}. Best is trial 7 with value: 13234.274506436135.\n",
      "[I 2025-04-06 11:43:01,217] Trial 8 finished with value: -18478.182326430153 and parameters: {'n_components': 7, 'covariance_type': 'diag'}. Best is trial 7 with value: 13234.274506436135.\n",
      "[I 2025-04-06 11:43:01,332] Trial 9 finished with value: -18600.462739330906 and parameters: {'n_components': 8, 'covariance_type': 'tied'}. Best is trial 7 with value: 13234.274506436135.\n",
      "[I 2025-04-06 11:43:01,345] Trial 10 finished with value: 13517.954765258874 and parameters: {'n_components': 3, 'covariance_type': 'spherical'}. Best is trial 10 with value: 13517.954765258874.\n",
      "[I 2025-04-06 11:43:01,442] Trial 11 finished with value: -25124.2346966123 and parameters: {'n_components': 8, 'covariance_type': 'full'}. Best is trial 10 with value: 13517.954765258874.\n",
      "[I 2025-04-06 11:43:01,465] Trial 12 finished with value: -9599.639308249265 and parameters: {'n_components': 4, 'covariance_type': 'diag'}. Best is trial 10 with value: 13517.954765258874.\n",
      "[I 2025-04-06 11:43:01,484] Trial 13 finished with value: -347.85814843442074 and parameters: {'n_components': 3, 'covariance_type': 'tied'}. Best is trial 10 with value: 13517.954765258874.\n",
      "[I 2025-04-06 11:43:01,513] Trial 14 finished with value: 13122.248730728968 and parameters: {'n_components': 9, 'covariance_type': 'spherical'}. Best is trial 10 with value: 13517.954765258874.\n",
      "[I 2025-04-06 11:43:01,530] Trial 15 finished with value: 13381.513104008285 and parameters: {'n_components': 4, 'covariance_type': 'spherical'}. Best is trial 10 with value: 13517.954765258874.\n",
      "[I 2025-04-06 11:43:01,594] Trial 16 finished with value: -22508.747283139965 and parameters: {'n_components': 10, 'covariance_type': 'diag'}. Best is trial 10 with value: 13517.954765258874.\n",
      "[I 2025-04-06 11:43:01,649] Trial 17 finished with value: -15471.55821094762 and parameters: {'n_components': 4, 'covariance_type': 'full'}. Best is trial 10 with value: 13517.954765258874.\n",
      "[I 2025-04-06 11:43:01,682] Trial 18 finished with value: 13048.54750821482 and parameters: {'n_components': 10, 'covariance_type': 'spherical'}. Best is trial 10 with value: 13517.954765258874.\n",
      "[I 2025-04-06 11:43:01,801] Trial 19 finished with value: -25129.454932195615 and parameters: {'n_components': 9, 'covariance_type': 'full'}. Best is trial 10 with value: 13517.954765258874.\n",
      "[I 2025-04-06 11:43:01,915] Trial 20 finished with value: -25850.082549554765 and parameters: {'n_components': 7, 'covariance_type': 'full'}. Best is trial 10 with value: 13517.954765258874.\n",
      "[I 2025-04-06 11:43:01,960] Trial 21 finished with value: -5520.881590325625 and parameters: {'n_components': 5, 'covariance_type': 'diag'}. Best is trial 10 with value: 13517.954765258874.\n",
      "[I 2025-04-06 11:43:01,999] Trial 22 finished with value: 13133.938639983135 and parameters: {'n_components': 8, 'covariance_type': 'spherical'}. Best is trial 10 with value: 13517.954765258874.\n",
      "[I 2025-04-06 11:43:02,028] Trial 23 finished with value: -10335.697932422547 and parameters: {'n_components': 6, 'covariance_type': 'diag'}. Best is trial 10 with value: 13517.954765258874.\n",
      "[I 2025-04-06 11:43:02,049] Trial 24 finished with value: -284.44626933073334 and parameters: {'n_components': 4, 'covariance_type': 'tied'}. Best is trial 10 with value: 13517.954765258874.\n",
      "[I 2025-04-06 11:43:02,147] Trial 25 finished with value: -22201.35676402912 and parameters: {'n_components': 10, 'covariance_type': 'full'}. Best is trial 10 with value: 13517.954765258874.\n",
      "[I 2025-04-06 11:43:02,168] Trial 26 finished with value: 13169.399808041568 and parameters: {'n_components': 6, 'covariance_type': 'spherical'}. Best is trial 10 with value: 13517.954765258874.\n",
      "[I 2025-04-06 11:43:02,258] Trial 27 finished with value: -20708.183539747413 and parameters: {'n_components': 6, 'covariance_type': 'full'}. Best is trial 10 with value: 13517.954765258874.\n",
      "[I 2025-04-06 11:43:02,302] Trial 28 finished with value: -8270.323890356754 and parameters: {'n_components': 3, 'covariance_type': 'full'}. Best is trial 10 with value: 13517.954765258874.\n",
      "[I 2025-04-06 11:43:02,343] Trial 29 finished with value: -20904.602480199526 and parameters: {'n_components': 8, 'covariance_type': 'diag'}. Best is trial 10 with value: 13517.954765258874.\n",
      "[I 2025-04-06 11:43:02,426] Trial 30 finished with value: -18558.266391811445 and parameters: {'n_components': 10, 'covariance_type': 'tied'}. Best is trial 10 with value: 13517.954765258874.\n",
      "[I 2025-04-06 11:43:02,551] Trial 31 finished with value: -18657.255193046338 and parameters: {'n_components': 7, 'covariance_type': 'tied'}. Best is trial 10 with value: 13517.954765258874.\n"
     ]
    }
   ],
   "source": [
    "# Executar o Optuna para otimizar os hiper parâmetros\n",
    "estudo_gmm.optimize(gmm_objective, n_trials=32)"
   ]
  },
  {
   "cell_type": "code",
   "execution_count": 42,
   "metadata": {},
   "outputs": [],
   "source": [
    "# Melhor configuração obtida pelo Optuna\n",
    "best_params = estudo_gmm.best_params"
   ]
  },
  {
   "cell_type": "code",
   "execution_count": 43,
   "metadata": {},
   "outputs": [],
   "source": [
    "# Instanciar e treinar o modelo com os melhores parâmetros do Optuna\n",
    "best_gmm = GaussianMixture(n_components=best_params['n_components'], covariance_type=best_params['covariance_type'], random_state=51)\n",
    "best_gmm.fit(X_transformed)\n",
    "\n",
    "# Calcular o BIC do melhor modelo\n",
    "best_bic = best_gmm.bic(X_transformed)"
   ]
  },
  {
   "cell_type": "code",
   "execution_count": 44,
   "metadata": {},
   "outputs": [
    {
     "name": "stdout",
     "output_type": "stream",
     "text": [
      "Quantidade ideal de componentes:  3\n",
      "Tipo de Covariância:  spherical\n",
      "BIC do melhor modelo:  13517.954765258874\n"
     ]
    }
   ],
   "source": [
    "# Mostrar melhores parâmetros e resultado\n",
    "print('Quantidade ideal de componentes: ', best_params['n_components'])\n",
    "print('Tipo de Covariância: ', best_params['covariance_type'])\n",
    "print('BIC do melhor modelo: ', best_bic)"
   ]
  },
  {
   "cell_type": "markdown",
   "metadata": {},
   "source": [
    "### Retornar Clusters do melhor modelo GMM"
   ]
  },
  {
   "cell_type": "code",
   "execution_count": 45,
   "metadata": {},
   "outputs": [],
   "source": [
    "# Executar um Predict para retornar os Clusters\n",
    "clusters_gmm = best_gmm.predict(X_transformed)"
   ]
  },
  {
   "cell_type": "code",
   "execution_count": 46,
   "metadata": {},
   "outputs": [
    {
     "data": {
      "text/plain": [
       "array([0, 0, 1, 0, 1, 2, 0, 1, 0, 2, 2, 2, 1, 2, 1, 1, 1, 0, 1, 2, 0, 0,\n",
       "       2, 2, 0, 0, 1, 1, 0, 0, 0, 1, 2, 1, 2, 2, 2, 1, 1, 1, 1, 2, 2, 2,\n",
       "       0, 1, 2, 0, 1, 1, 1, 0, 0, 2, 0, 0, 0, 0, 2, 1, 1, 2, 0, 1, 1, 2,\n",
       "       2, 0, 0, 0, 2, 0, 0, 1, 2, 0, 0, 2, 2, 1, 1, 0, 0, 1, 2, 1, 1, 0,\n",
       "       0, 1, 0, 2, 2, 0, 0, 1, 1, 1, 1, 2, 0, 0, 2, 2, 0, 2, 1, 2, 2, 1,\n",
       "       1, 1, 1, 1, 0, 0, 1, 0, 2, 2, 0, 0, 2, 2, 1, 0, 1, 2, 2, 1, 1, 0,\n",
       "       0, 2, 0, 0, 1, 1, 0, 2, 1, 0, 0, 0, 1, 0, 1, 0, 1, 1, 0, 2, 2, 1,\n",
       "       0, 1, 1, 1, 0, 0, 2, 1, 1, 1, 2, 2, 0, 0, 1, 1, 1, 1, 0, 2, 1, 0,\n",
       "       1, 1, 1, 1, 0, 2, 1, 1, 1, 2, 1, 0, 1, 1, 1, 0, 2, 1, 0, 1, 0, 0,\n",
       "       2, 2, 2, 1, 1, 0, 0, 1, 2, 0, 2, 0, 0, 0, 0, 0, 0, 2, 2, 1, 0, 0,\n",
       "       1, 2, 1, 1, 1, 1, 0, 1, 0, 2, 0, 2, 1, 1, 0, 1, 2, 2, 1, 2, 1, 2,\n",
       "       0, 0, 0, 1, 2, 1, 1, 1, 1, 0, 0, 0, 1, 2, 1, 1, 1, 0, 2, 1, 0, 1,\n",
       "       0, 2, 1, 1, 0, 2, 1, 1, 0, 1, 1, 2, 2, 1, 2, 1, 2, 1, 0, 0, 1, 1,\n",
       "       1, 1, 2, 0, 0, 1, 0, 2, 1, 0, 1, 2, 1, 0, 2, 1, 1, 0, 0, 1, 1, 2,\n",
       "       2, 0, 0, 2, 0, 0, 0, 0, 1, 2, 1, 0, 0, 1, 0, 1, 1, 1, 1, 1, 0, 1,\n",
       "       1, 0, 2, 1, 2, 2, 0, 0, 1, 1, 1, 2, 1, 0, 0, 1, 0, 1, 2, 1, 2, 0,\n",
       "       1, 1, 2, 1, 2, 2, 1, 2, 1, 0, 1, 1, 2, 0, 0, 0, 1, 2, 0, 0, 2, 2,\n",
       "       1, 1, 2, 2, 0, 1, 2, 1, 0, 1, 1, 2, 0, 1, 1, 1, 1, 2, 0, 2, 1, 1,\n",
       "       0, 1, 1, 1, 0, 2, 1, 0, 2, 1, 1, 2, 0, 0, 0, 1, 2, 1, 1, 2, 1, 2,\n",
       "       1, 2, 1, 2, 2, 2, 0, 2, 2, 1, 0, 1, 2, 0, 0, 0, 1, 2, 1, 1, 0, 1,\n",
       "       2, 1, 1, 1, 2, 0, 0, 2, 1, 2, 0, 2, 0, 1, 0, 2, 1, 1, 2, 1, 1, 1,\n",
       "       2, 0, 0, 0, 2, 1, 0, 2, 0, 0, 1, 1, 2, 2, 2, 1, 0, 0, 2, 1, 1, 0,\n",
       "       1, 0, 0, 2, 2, 0, 2, 0, 0, 1, 0, 0, 1, 0, 2, 1])"
      ]
     },
     "execution_count": 46,
     "metadata": {},
     "output_type": "execute_result"
    }
   ],
   "source": [
    "# Visualizar Resultado dos Clusters\n",
    "clusters_gmm"
   ]
  },
  {
   "cell_type": "code",
   "execution_count": 47,
   "metadata": {},
   "outputs": [],
   "source": [
    "# Gerar as probabilidades de cada registro estar em um cluster\n",
    "clusters_gmm_prob = best_gmm.predict_proba(X_transformed)"
   ]
  },
  {
   "cell_type": "code",
   "execution_count": 48,
   "metadata": {},
   "outputs": [
    {
     "data": {
      "text/plain": [
       "array([[0.9999798986, 0.          , 0.0000201014],\n",
       "       [0.9999999957, 0.          , 0.0000000043],\n",
       "       [0.          , 1.          , 0.          ],\n",
       "       ...,\n",
       "       [0.9999999977, 0.          , 0.0000000023],\n",
       "       [0.053478558 , 0.0000000173, 0.9465214247],\n",
       "       [0.          , 1.          , 0.          ]], shape=(500, 3))"
      ]
     },
     "execution_count": 48,
     "metadata": {},
     "output_type": "execute_result"
    }
   ],
   "source": [
    "# Mostrar as probabilidades\n",
    "clusters_gmm_prob"
   ]
  },
  {
   "cell_type": "code",
   "execution_count": 49,
   "metadata": {},
   "outputs": [],
   "source": [
    "# Criar uma coluna chamada Cluster para armazenar o Cluster do GMM\n",
    "df_clientes['cluster'] = clusters_gmm.astype(int)"
   ]
  },
  {
   "cell_type": "code",
   "execution_count": 50,
   "metadata": {},
   "outputs": [
    {
     "data": {
      "text/html": [
       "<div>\n",
       "<style scoped>\n",
       "    .dataframe tbody tr th:only-of-type {\n",
       "        vertical-align: middle;\n",
       "    }\n",
       "\n",
       "    .dataframe tbody tr th {\n",
       "        vertical-align: top;\n",
       "    }\n",
       "\n",
       "    .dataframe thead th {\n",
       "        text-align: right;\n",
       "    }\n",
       "</style>\n",
       "<table border=\"1\" class=\"dataframe\">\n",
       "  <thead>\n",
       "    <tr style=\"text-align: right;\">\n",
       "      <th></th>\n",
       "      <th>atividade_economica</th>\n",
       "      <th>faturamento_mensal</th>\n",
       "      <th>numero_de_funcionarios</th>\n",
       "      <th>localizacao</th>\n",
       "      <th>idade</th>\n",
       "      <th>inovacao</th>\n",
       "      <th>cluster</th>\n",
       "    </tr>\n",
       "  </thead>\n",
       "  <tbody>\n",
       "    <tr>\n",
       "      <th>0</th>\n",
       "      <td>Comércio</td>\n",
       "      <td>713109.95</td>\n",
       "      <td>12</td>\n",
       "      <td>Rio de Janeiro</td>\n",
       "      <td>6</td>\n",
       "      <td>1</td>\n",
       "      <td>0</td>\n",
       "    </tr>\n",
       "    <tr>\n",
       "      <th>1</th>\n",
       "      <td>Comércio</td>\n",
       "      <td>790714.38</td>\n",
       "      <td>9</td>\n",
       "      <td>São Paulo</td>\n",
       "      <td>15</td>\n",
       "      <td>0</td>\n",
       "      <td>0</td>\n",
       "    </tr>\n",
       "    <tr>\n",
       "      <th>2</th>\n",
       "      <td>Comércio</td>\n",
       "      <td>1197239.33</td>\n",
       "      <td>17</td>\n",
       "      <td>São Paulo</td>\n",
       "      <td>4</td>\n",
       "      <td>9</td>\n",
       "      <td>1</td>\n",
       "    </tr>\n",
       "    <tr>\n",
       "      <th>3</th>\n",
       "      <td>Indústria</td>\n",
       "      <td>449185.78</td>\n",
       "      <td>15</td>\n",
       "      <td>São Paulo</td>\n",
       "      <td>6</td>\n",
       "      <td>0</td>\n",
       "      <td>0</td>\n",
       "    </tr>\n",
       "    <tr>\n",
       "      <th>4</th>\n",
       "      <td>Agronegócio</td>\n",
       "      <td>1006373.16</td>\n",
       "      <td>15</td>\n",
       "      <td>São Paulo</td>\n",
       "      <td>15</td>\n",
       "      <td>8</td>\n",
       "      <td>1</td>\n",
       "    </tr>\n",
       "    <tr>\n",
       "      <th>5</th>\n",
       "      <td>Serviços</td>\n",
       "      <td>1629562.41</td>\n",
       "      <td>16</td>\n",
       "      <td>Rio de Janeiro</td>\n",
       "      <td>11</td>\n",
       "      <td>4</td>\n",
       "      <td>2</td>\n",
       "    </tr>\n",
       "    <tr>\n",
       "      <th>6</th>\n",
       "      <td>Serviços</td>\n",
       "      <td>771179.95</td>\n",
       "      <td>13</td>\n",
       "      <td>Vitória</td>\n",
       "      <td>0</td>\n",
       "      <td>1</td>\n",
       "      <td>0</td>\n",
       "    </tr>\n",
       "    <tr>\n",
       "      <th>7</th>\n",
       "      <td>Serviços</td>\n",
       "      <td>707837.61</td>\n",
       "      <td>16</td>\n",
       "      <td>São Paulo</td>\n",
       "      <td>10</td>\n",
       "      <td>6</td>\n",
       "      <td>1</td>\n",
       "    </tr>\n",
       "    <tr>\n",
       "      <th>8</th>\n",
       "      <td>Comércio</td>\n",
       "      <td>888983.66</td>\n",
       "      <td>17</td>\n",
       "      <td>Belo Horizonte</td>\n",
       "      <td>10</td>\n",
       "      <td>1</td>\n",
       "      <td>0</td>\n",
       "    </tr>\n",
       "    <tr>\n",
       "      <th>9</th>\n",
       "      <td>Indústria</td>\n",
       "      <td>1098512.64</td>\n",
       "      <td>13</td>\n",
       "      <td>Rio de Janeiro</td>\n",
       "      <td>9</td>\n",
       "      <td>3</td>\n",
       "      <td>2</td>\n",
       "    </tr>\n",
       "  </tbody>\n",
       "</table>\n",
       "</div>"
      ],
      "text/plain": [
       "  atividade_economica  faturamento_mensal  numero_de_funcionarios  \\\n",
       "0            Comércio           713109.95                      12   \n",
       "1            Comércio           790714.38                       9   \n",
       "2            Comércio          1197239.33                      17   \n",
       "3           Indústria           449185.78                      15   \n",
       "4         Agronegócio          1006373.16                      15   \n",
       "5            Serviços          1629562.41                      16   \n",
       "6            Serviços           771179.95                      13   \n",
       "7            Serviços           707837.61                      16   \n",
       "8            Comércio           888983.66                      17   \n",
       "9           Indústria          1098512.64                      13   \n",
       "\n",
       "      localizacao  idade  inovacao  cluster  \n",
       "0  Rio de Janeiro      6         1        0  \n",
       "1       São Paulo     15         0        0  \n",
       "2       São Paulo      4         9        1  \n",
       "3       São Paulo      6         0        0  \n",
       "4       São Paulo     15         8        1  \n",
       "5  Rio de Janeiro     11         4        2  \n",
       "6         Vitória      0         1        0  \n",
       "7       São Paulo     10         6        1  \n",
       "8  Belo Horizonte     10         1        0  \n",
       "9  Rio de Janeiro      9         3        2  "
      ]
     },
     "execution_count": 50,
     "metadata": {},
     "output_type": "execute_result"
    }
   ],
   "source": [
    "# Visualizar o DataFrame atualizado\n",
    "df_clientes.head(10)"
   ]
  },
  {
   "cell_type": "markdown",
   "metadata": {},
   "source": [
    "### Visualizar Resultados"
   ]
  },
  {
   "cell_type": "code",
   "execution_count": 51,
   "metadata": {},
   "outputs": [
    {
     "data": {
      "application/vnd.plotly.v1+json": {
       "config": {
        "plotlyServerURL": "https://plot.ly"
       },
       "data": [
        {
         "hovertemplate": "idade=%{x}<br>faturamento_mensal=%{y}<br>cluster=%{marker.color}<extra></extra>",
         "legendgroup": "",
         "marker": {
          "color": {
           "bdata": "AAABAAECAAEAAgICAQIBAQEAAQIAAAICAAABAQAAAAECAQICAgEBAQECAgIAAQIAAQEBAAACAAAAAAIBAQIAAQECAgAAAAIAAAECAAACAgEBAAABAgEBAAABAAICAAABAQEBAgAAAgIAAgECAgEBAQEBAAABAAICAAACAgEAAQICAQEAAAIAAAEBAAIBAAAAAQABAAEBAAICAQABAQEAAAIBAQECAgAAAQEBAQACAQABAQEBAAIBAQECAQABAQEAAgEAAQAAAgICAQEAAAECAAIAAAAAAAACAgEAAAECAQEBAQABAAIAAgEBAAECAgECAQIAAAABAgEBAQEAAAABAgEBAQACAQABAAIBAQACAQEAAQECAgECAQIBAAABAQEBAgAAAQACAQABAgEAAgEBAAABAQICAAACAAAAAAECAQAAAQABAQEBAQABAQACAQICAAABAQECAQAAAQABAgECAAEBAgECAgECAQABAQIAAAABAgAAAgIBAQICAAECAQABAQIAAQEBAQIAAgEBAAEBAQACAQACAQECAAAAAQIBAQIBAgECAQICAgACAgEAAQIAAAABAgEBAAECAQEBAgAAAgECAAIAAQACAQECAQEBAgAAAAIBAAIAAAEBAgICAQAAAgEBAAEAAAICAAIAAAEAAAEAAgE=",
           "dtype": "i1"
          },
          "coloraxis": "coloraxis",
          "symbol": "circle"
         },
         "mode": "markers",
         "name": "",
         "orientation": "v",
         "showlegend": false,
         "type": "scatter",
         "x": {
          "bdata": "Bg8EBg8LAAoKCQoJCwkICAgMCgwGEAkNDwcHCQQMAwcMBwUMDAkLBwYJBwYODQwICQkNCAwMAwwICQoHBwoGCggJCgIKDgYNCwYNDAgKCQkJDA0EBwoHDQoLCQoJBwoMCgcPAwUICQQLCgcHCQ4JDAsOCggOCQwLCxADBwsHCgcLBQgLCQgMCgoHBwoKBhAMBwwHBgUHCw0KCgsHDQoNDw0CCwkJDAoFBAsQBwQICQgHBg0IDAYJCwcFDAYKCAoKBwwGCgcICg8FCAoMCQgICgQNDAkHCQYOBwkKBgYMCQsKCAkCDQkHCAcMCAcFBQ0HBQ0GCQULCAQLBgkNBwYJCAgKEAoJCAkHCgwKCQgFBQkLCw4NCQgJDAkKDAwMCQoFDQcNCwcHEAsMDwQHDAcLDQwLCQkGBA4LCwYHDgYLBwwJCQoHBgwKCQYIAg4FCQoDCwkKDAoNCAkGDAoGCgsIBw0LBwgKCg0JCAcJCggICAgJDwsPCwoNDAYMBwYECggICAcICwgMCBAMCwwKEAcLCwUKCggIDAwHDA4KBggIDgMLDA0GBg0JCAsLCAsLBwoNCQwJCwoPCgQNBwoKCAoFEAgHCgoFCwUKCgQGCwkPBxALDAsKDw0HCAQLBgkLCwgGBQENCwUMDQcNBwcICQQKCAYKBQQ=",
          "dtype": "i1"
         },
         "xaxis": "x",
         "y": {
          "bdata": "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",
          "dtype": "f8"
         },
         "yaxis": "y"
        }
       ],
       "layout": {
        "coloraxis": {
         "colorbar": {
          "title": {
           "text": "cluster"
          }
         },
         "colorscale": [
          [
           0,
           "#0d0887"
          ],
          [
           0.1111111111111111,
           "#46039f"
          ],
          [
           0.2222222222222222,
           "#7201a8"
          ],
          [
           0.3333333333333333,
           "#9c179e"
          ],
          [
           0.4444444444444444,
           "#bd3786"
          ],
          [
           0.5555555555555556,
           "#d8576b"
          ],
          [
           0.6666666666666666,
           "#ed7953"
          ],
          [
           0.7777777777777778,
           "#fb9f3a"
          ],
          [
           0.8888888888888888,
           "#fdca26"
          ],
          [
           1,
           "#f0f921"
          ]
         ]
        },
        "legend": {
         "tracegroupgap": 0
        },
        "margin": {
         "t": 60
        },
        "template": {
         "data": {
          "bar": [
           {
            "error_x": {
             "color": "#2a3f5f"
            },
            "error_y": {
             "color": "#2a3f5f"
            },
            "marker": {
             "line": {
              "color": "#E5ECF6",
              "width": 0.5
             },
             "pattern": {
              "fillmode": "overlay",
              "size": 10,
              "solidity": 0.2
             }
            },
            "type": "bar"
           }
          ],
          "barpolar": [
           {
            "marker": {
             "line": {
              "color": "#E5ECF6",
              "width": 0.5
             },
             "pattern": {
              "fillmode": "overlay",
              "size": 10,
              "solidity": 0.2
             }
            },
            "type": "barpolar"
           }
          ],
          "carpet": [
           {
            "aaxis": {
             "endlinecolor": "#2a3f5f",
             "gridcolor": "white",
             "linecolor": "white",
             "minorgridcolor": "white",
             "startlinecolor": "#2a3f5f"
            },
            "baxis": {
             "endlinecolor": "#2a3f5f",
             "gridcolor": "white",
             "linecolor": "white",
             "minorgridcolor": "white",
             "startlinecolor": "#2a3f5f"
            },
            "type": "carpet"
           }
          ],
          "choropleth": [
           {
            "colorbar": {
             "outlinewidth": 0,
             "ticks": ""
            },
            "type": "choropleth"
           }
          ],
          "contour": [
           {
            "colorbar": {
             "outlinewidth": 0,
             "ticks": ""
            },
            "colorscale": [
             [
              0,
              "#0d0887"
             ],
             [
              0.1111111111111111,
              "#46039f"
             ],
             [
              0.2222222222222222,
              "#7201a8"
             ],
             [
              0.3333333333333333,
              "#9c179e"
             ],
             [
              0.4444444444444444,
              "#bd3786"
             ],
             [
              0.5555555555555556,
              "#d8576b"
             ],
             [
              0.6666666666666666,
              "#ed7953"
             ],
             [
              0.7777777777777778,
              "#fb9f3a"
             ],
             [
              0.8888888888888888,
              "#fdca26"
             ],
             [
              1,
              "#f0f921"
             ]
            ],
            "type": "contour"
           }
          ],
          "contourcarpet": [
           {
            "colorbar": {
             "outlinewidth": 0,
             "ticks": ""
            },
            "type": "contourcarpet"
           }
          ],
          "heatmap": [
           {
            "colorbar": {
             "outlinewidth": 0,
             "ticks": ""
            },
            "colorscale": [
             [
              0,
              "#0d0887"
             ],
             [
              0.1111111111111111,
              "#46039f"
             ],
             [
              0.2222222222222222,
              "#7201a8"
             ],
             [
              0.3333333333333333,
              "#9c179e"
             ],
             [
              0.4444444444444444,
              "#bd3786"
             ],
             [
              0.5555555555555556,
              "#d8576b"
             ],
             [
              0.6666666666666666,
              "#ed7953"
             ],
             [
              0.7777777777777778,
              "#fb9f3a"
             ],
             [
              0.8888888888888888,
              "#fdca26"
             ],
             [
              1,
              "#f0f921"
             ]
            ],
            "type": "heatmap"
           }
          ],
          "histogram": [
           {
            "marker": {
             "pattern": {
              "fillmode": "overlay",
              "size": 10,
              "solidity": 0.2
             }
            },
            "type": "histogram"
           }
          ],
          "histogram2d": [
           {
            "colorbar": {
             "outlinewidth": 0,
             "ticks": ""
            },
            "colorscale": [
             [
              0,
              "#0d0887"
             ],
             [
              0.1111111111111111,
              "#46039f"
             ],
             [
              0.2222222222222222,
              "#7201a8"
             ],
             [
              0.3333333333333333,
              "#9c179e"
             ],
             [
              0.4444444444444444,
              "#bd3786"
             ],
             [
              0.5555555555555556,
              "#d8576b"
             ],
             [
              0.6666666666666666,
              "#ed7953"
             ],
             [
              0.7777777777777778,
              "#fb9f3a"
             ],
             [
              0.8888888888888888,
              "#fdca26"
             ],
             [
              1,
              "#f0f921"
             ]
            ],
            "type": "histogram2d"
           }
          ],
          "histogram2dcontour": [
           {
            "colorbar": {
             "outlinewidth": 0,
             "ticks": ""
            },
            "colorscale": [
             [
              0,
              "#0d0887"
             ],
             [
              0.1111111111111111,
              "#46039f"
             ],
             [
              0.2222222222222222,
              "#7201a8"
             ],
             [
              0.3333333333333333,
              "#9c179e"
             ],
             [
              0.4444444444444444,
              "#bd3786"
             ],
             [
              0.5555555555555556,
              "#d8576b"
             ],
             [
              0.6666666666666666,
              "#ed7953"
             ],
             [
              0.7777777777777778,
              "#fb9f3a"
             ],
             [
              0.8888888888888888,
              "#fdca26"
             ],
             [
              1,
              "#f0f921"
             ]
            ],
            "type": "histogram2dcontour"
           }
          ],
          "mesh3d": [
           {
            "colorbar": {
             "outlinewidth": 0,
             "ticks": ""
            },
            "type": "mesh3d"
           }
          ],
          "parcoords": [
           {
            "line": {
             "colorbar": {
              "outlinewidth": 0,
              "ticks": ""
             }
            },
            "type": "parcoords"
           }
          ],
          "pie": [
           {
            "automargin": true,
            "type": "pie"
           }
          ],
          "scatter": [
           {
            "fillpattern": {
             "fillmode": "overlay",
             "size": 10,
             "solidity": 0.2
            },
            "type": "scatter"
           }
          ],
          "scatter3d": [
           {
            "line": {
             "colorbar": {
              "outlinewidth": 0,
              "ticks": ""
             }
            },
            "marker": {
             "colorbar": {
              "outlinewidth": 0,
              "ticks": ""
             }
            },
            "type": "scatter3d"
           }
          ],
          "scattercarpet": [
           {
            "marker": {
             "colorbar": {
              "outlinewidth": 0,
              "ticks": ""
             }
            },
            "type": "scattercarpet"
           }
          ],
          "scattergeo": [
           {
            "marker": {
             "colorbar": {
              "outlinewidth": 0,
              "ticks": ""
             }
            },
            "type": "scattergeo"
           }
          ],
          "scattergl": [
           {
            "marker": {
             "colorbar": {
              "outlinewidth": 0,
              "ticks": ""
             }
            },
            "type": "scattergl"
           }
          ],
          "scattermap": [
           {
            "marker": {
             "colorbar": {
              "outlinewidth": 0,
              "ticks": ""
             }
            },
            "type": "scattermap"
           }
          ],
          "scattermapbox": [
           {
            "marker": {
             "colorbar": {
              "outlinewidth": 0,
              "ticks": ""
             }
            },
            "type": "scattermapbox"
           }
          ],
          "scatterpolar": [
           {
            "marker": {
             "colorbar": {
              "outlinewidth": 0,
              "ticks": ""
             }
            },
            "type": "scatterpolar"
           }
          ],
          "scatterpolargl": [
           {
            "marker": {
             "colorbar": {
              "outlinewidth": 0,
              "ticks": ""
             }
            },
            "type": "scatterpolargl"
           }
          ],
          "scatterternary": [
           {
            "marker": {
             "colorbar": {
              "outlinewidth": 0,
              "ticks": ""
             }
            },
            "type": "scatterternary"
           }
          ],
          "surface": [
           {
            "colorbar": {
             "outlinewidth": 0,
             "ticks": ""
            },
            "colorscale": [
             [
              0,
              "#0d0887"
             ],
             [
              0.1111111111111111,
              "#46039f"
             ],
             [
              0.2222222222222222,
              "#7201a8"
             ],
             [
              0.3333333333333333,
              "#9c179e"
             ],
             [
              0.4444444444444444,
              "#bd3786"
             ],
             [
              0.5555555555555556,
              "#d8576b"
             ],
             [
              0.6666666666666666,
              "#ed7953"
             ],
             [
              0.7777777777777778,
              "#fb9f3a"
             ],
             [
              0.8888888888888888,
              "#fdca26"
             ],
             [
              1,
              "#f0f921"
             ]
            ],
            "type": "surface"
           }
          ],
          "table": [
           {
            "cells": {
             "fill": {
              "color": "#EBF0F8"
             },
             "line": {
              "color": "white"
             }
            },
            "header": {
             "fill": {
              "color": "#C8D4E3"
             },
             "line": {
              "color": "white"
             }
            },
            "type": "table"
           }
          ]
         },
         "layout": {
          "annotationdefaults": {
           "arrowcolor": "#2a3f5f",
           "arrowhead": 0,
           "arrowwidth": 1
          },
          "autotypenumbers": "strict",
          "coloraxis": {
           "colorbar": {
            "outlinewidth": 0,
            "ticks": ""
           }
          },
          "colorscale": {
           "diverging": [
            [
             0,
             "#8e0152"
            ],
            [
             0.1,
             "#c51b7d"
            ],
            [
             0.2,
             "#de77ae"
            ],
            [
             0.3,
             "#f1b6da"
            ],
            [
             0.4,
             "#fde0ef"
            ],
            [
             0.5,
             "#f7f7f7"
            ],
            [
             0.6,
             "#e6f5d0"
            ],
            [
             0.7,
             "#b8e186"
            ],
            [
             0.8,
             "#7fbc41"
            ],
            [
             0.9,
             "#4d9221"
            ],
            [
             1,
             "#276419"
            ]
           ],
           "sequential": [
            [
             0,
             "#0d0887"
            ],
            [
             0.1111111111111111,
             "#46039f"
            ],
            [
             0.2222222222222222,
             "#7201a8"
            ],
            [
             0.3333333333333333,
             "#9c179e"
            ],
            [
             0.4444444444444444,
             "#bd3786"
            ],
            [
             0.5555555555555556,
             "#d8576b"
            ],
            [
             0.6666666666666666,
             "#ed7953"
            ],
            [
             0.7777777777777778,
             "#fb9f3a"
            ],
            [
             0.8888888888888888,
             "#fdca26"
            ],
            [
             1,
             "#f0f921"
            ]
           ],
           "sequentialminus": [
            [
             0,
             "#0d0887"
            ],
            [
             0.1111111111111111,
             "#46039f"
            ],
            [
             0.2222222222222222,
             "#7201a8"
            ],
            [
             0.3333333333333333,
             "#9c179e"
            ],
            [
             0.4444444444444444,
             "#bd3786"
            ],
            [
             0.5555555555555556,
             "#d8576b"
            ],
            [
             0.6666666666666666,
             "#ed7953"
            ],
            [
             0.7777777777777778,
             "#fb9f3a"
            ],
            [
             0.8888888888888888,
             "#fdca26"
            ],
            [
             1,
             "#f0f921"
            ]
           ]
          },
          "colorway": [
           "#636efa",
           "#EF553B",
           "#00cc96",
           "#ab63fa",
           "#FFA15A",
           "#19d3f3",
           "#FF6692",
           "#B6E880",
           "#FF97FF",
           "#FECB52"
          ],
          "font": {
           "color": "#2a3f5f"
          },
          "geo": {
           "bgcolor": "white",
           "lakecolor": "white",
           "landcolor": "#E5ECF6",
           "showlakes": true,
           "showland": true,
           "subunitcolor": "white"
          },
          "hoverlabel": {
           "align": "left"
          },
          "hovermode": "closest",
          "mapbox": {
           "style": "light"
          },
          "paper_bgcolor": "white",
          "plot_bgcolor": "#E5ECF6",
          "polar": {
           "angularaxis": {
            "gridcolor": "white",
            "linecolor": "white",
            "ticks": ""
           },
           "bgcolor": "#E5ECF6",
           "radialaxis": {
            "gridcolor": "white",
            "linecolor": "white",
            "ticks": ""
           }
          },
          "scene": {
           "xaxis": {
            "backgroundcolor": "#E5ECF6",
            "gridcolor": "white",
            "gridwidth": 2,
            "linecolor": "white",
            "showbackground": true,
            "ticks": "",
            "zerolinecolor": "white"
           },
           "yaxis": {
            "backgroundcolor": "#E5ECF6",
            "gridcolor": "white",
            "gridwidth": 2,
            "linecolor": "white",
            "showbackground": true,
            "ticks": "",
            "zerolinecolor": "white"
           },
           "zaxis": {
            "backgroundcolor": "#E5ECF6",
            "gridcolor": "white",
            "gridwidth": 2,
            "linecolor": "white",
            "showbackground": true,
            "ticks": "",
            "zerolinecolor": "white"
           }
          },
          "shapedefaults": {
           "line": {
            "color": "#2a3f5f"
           }
          },
          "ternary": {
           "aaxis": {
            "gridcolor": "white",
            "linecolor": "white",
            "ticks": ""
           },
           "baxis": {
            "gridcolor": "white",
            "linecolor": "white",
            "ticks": ""
           },
           "bgcolor": "#E5ECF6",
           "caxis": {
            "gridcolor": "white",
            "linecolor": "white",
            "ticks": ""
           }
          },
          "title": {
           "x": 0.05
          },
          "xaxis": {
           "automargin": true,
           "gridcolor": "white",
           "linecolor": "white",
           "ticks": "",
           "title": {
            "standoff": 15
           },
           "zerolinecolor": "white",
           "zerolinewidth": 2
          },
          "yaxis": {
           "automargin": true,
           "gridcolor": "white",
           "linecolor": "white",
           "ticks": "",
           "title": {
            "standoff": 15
           },
           "zerolinecolor": "white",
           "zerolinewidth": 2
          }
         }
        },
        "xaxis": {
         "anchor": "y",
         "domain": [
          0,
          1
         ],
         "title": {
          "text": "idade"
         }
        },
        "yaxis": {
         "anchor": "x",
         "domain": [
          0,
          1
         ],
         "title": {
          "text": "faturamento_mensal"
         }
        }
       }
      }
     },
     "metadata": {},
     "output_type": "display_data"
    }
   ],
   "source": [
    "# Cruzar dados de idade, faturamento mensal e clusters\n",
    "px.scatter(df_clientes, x='idade', y='faturamento_mensal', color='cluster')"
   ]
  },
  {
   "cell_type": "code",
   "execution_count": 52,
   "metadata": {},
   "outputs": [
    {
     "data": {
      "application/vnd.plotly.v1+json": {
       "config": {
        "plotlyServerURL": "https://plot.ly"
       },
       "data": [
        {
         "hovertemplate": "inovacao=%{x}<br>faturamento_mensal=%{y}<br>cluster=%{marker.color}<extra></extra>",
         "legendgroup": "",
         "marker": {
          "color": {
           "bdata": "AAABAAECAAEAAgICAQIBAQEAAQIAAAICAAABAQAAAAECAQICAgEBAQECAgIAAQIAAQEBAAACAAAAAAIBAQIAAQECAgAAAAIAAAECAAACAgEBAAABAgEBAAABAAICAAABAQEBAgAAAgIAAgECAgEBAQEBAAABAAICAAACAgEAAQICAQEAAAIAAAEBAAIBAAAAAQABAAEBAAICAQABAQEAAAIBAQECAgAAAQEBAQACAQABAQEBAAIBAQECAQABAQEAAgEAAQAAAgICAQEAAAECAAIAAAAAAAACAgEAAAECAQEBAQABAAIAAgEBAAECAgECAQIAAAABAgEBAQEAAAABAgEBAQACAQABAAIBAQACAQEAAQECAgECAQIBAAABAQEBAgAAAQACAQABAgEAAgEBAAABAQICAAACAAAAAAECAQAAAQABAQEBAQABAQACAQICAAABAQECAQAAAQABAgECAAEBAgECAgECAQABAQIAAAABAgAAAgIBAQICAAECAQABAQIAAQEBAQIAAgEBAAEBAQACAQACAQECAAAAAQIBAQIBAgECAQICAgACAgEAAQIAAAABAgEBAAECAQEBAgAAAgECAAIAAQACAQECAQEBAgAAAAIBAAIAAAEBAgICAQAAAgEBAAEAAAICAAIAAAEAAAEAAgE=",
           "dtype": "i1"
          },
          "coloraxis": "coloraxis",
          "symbol": "circle"
         },
         "mode": "markers",
         "name": "",
         "orientation": "v",
         "showlegend": false,
         "type": "scatter",
         "x": {
          "bdata": "AQAJAAgEAQYBAwQEBgMIBwgABwUCAgQFAgEHBgIBAgkFBgUDBQYIBwYDAwQBCQMACAcGAQIDAAACAQUJCQQBBwgDBQIAAQUBAQcFAgIDBQgHAgIHAwkGAQAGAAMEAQIIBwYJBAEBBAUAAwgDBQkIBwcHAAIIAAQDAAIFBAkCCQQECQYAAQMCAgkGAAQHAAECCQIHAAYGAgMFBwIGBwcCAgQJCAYDBQEBCQcJBgIEBgAJCQgHAAQHCQYFCAEJCAkAAwgBCAEABAQDCAcBAAcEAQUAAAIBAAIEAwkBAAkFBgYHCAIIAAMAAwcGAgcFBAgEBwMBAgIJAwYIBgkAAAEGBQcGBwAFCQIIAgQJBwADBwYACAYFBAcFBgQJAgAHBwgIBAIBCAEDCQAGBAgBBQgGAQEICAMFAgADAQECAAcDCQECBgIHBwYJBgEJBgEDCAMEAgAJCQkEBgECBwAGAwgFAAYHBQYDBQcDBwAICAUCAQAIBAIBBAQJBwUDAgYFCQAICQMCBwgIBgMBBQYHAQgHBgIECQEECQgDAQECBgUHBgQGAwkDBwMEAwEDBQYCBwMAAQIJBQYGAQYFCQYJBAIABAgFAQUBBgEEBwYEBwYHBQIAAQMIAgUAAAcIBAMECAACBQcIAAkCAQUFAQMAAggBAgkAAwk=",
          "dtype": "i1"
         },
         "xaxis": "x",
         "y": {
          "bdata": "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",
          "dtype": "f8"
         },
         "yaxis": "y"
        }
       ],
       "layout": {
        "coloraxis": {
         "colorbar": {
          "title": {
           "text": "cluster"
          }
         },
         "colorscale": [
          [
           0,
           "#0d0887"
          ],
          [
           0.1111111111111111,
           "#46039f"
          ],
          [
           0.2222222222222222,
           "#7201a8"
          ],
          [
           0.3333333333333333,
           "#9c179e"
          ],
          [
           0.4444444444444444,
           "#bd3786"
          ],
          [
           0.5555555555555556,
           "#d8576b"
          ],
          [
           0.6666666666666666,
           "#ed7953"
          ],
          [
           0.7777777777777778,
           "#fb9f3a"
          ],
          [
           0.8888888888888888,
           "#fdca26"
          ],
          [
           1,
           "#f0f921"
          ]
         ]
        },
        "legend": {
         "tracegroupgap": 0
        },
        "margin": {
         "t": 60
        },
        "template": {
         "data": {
          "bar": [
           {
            "error_x": {
             "color": "#2a3f5f"
            },
            "error_y": {
             "color": "#2a3f5f"
            },
            "marker": {
             "line": {
              "color": "#E5ECF6",
              "width": 0.5
             },
             "pattern": {
              "fillmode": "overlay",
              "size": 10,
              "solidity": 0.2
             }
            },
            "type": "bar"
           }
          ],
          "barpolar": [
           {
            "marker": {
             "line": {
              "color": "#E5ECF6",
              "width": 0.5
             },
             "pattern": {
              "fillmode": "overlay",
              "size": 10,
              "solidity": 0.2
             }
            },
            "type": "barpolar"
           }
          ],
          "carpet": [
           {
            "aaxis": {
             "endlinecolor": "#2a3f5f",
             "gridcolor": "white",
             "linecolor": "white",
             "minorgridcolor": "white",
             "startlinecolor": "#2a3f5f"
            },
            "baxis": {
             "endlinecolor": "#2a3f5f",
             "gridcolor": "white",
             "linecolor": "white",
             "minorgridcolor": "white",
             "startlinecolor": "#2a3f5f"
            },
            "type": "carpet"
           }
          ],
          "choropleth": [
           {
            "colorbar": {
             "outlinewidth": 0,
             "ticks": ""
            },
            "type": "choropleth"
           }
          ],
          "contour": [
           {
            "colorbar": {
             "outlinewidth": 0,
             "ticks": ""
            },
            "colorscale": [
             [
              0,
              "#0d0887"
             ],
             [
              0.1111111111111111,
              "#46039f"
             ],
             [
              0.2222222222222222,
              "#7201a8"
             ],
             [
              0.3333333333333333,
              "#9c179e"
             ],
             [
              0.4444444444444444,
              "#bd3786"
             ],
             [
              0.5555555555555556,
              "#d8576b"
             ],
             [
              0.6666666666666666,
              "#ed7953"
             ],
             [
              0.7777777777777778,
              "#fb9f3a"
             ],
             [
              0.8888888888888888,
              "#fdca26"
             ],
             [
              1,
              "#f0f921"
             ]
            ],
            "type": "contour"
           }
          ],
          "contourcarpet": [
           {
            "colorbar": {
             "outlinewidth": 0,
             "ticks": ""
            },
            "type": "contourcarpet"
           }
          ],
          "heatmap": [
           {
            "colorbar": {
             "outlinewidth": 0,
             "ticks": ""
            },
            "colorscale": [
             [
              0,
              "#0d0887"
             ],
             [
              0.1111111111111111,
              "#46039f"
             ],
             [
              0.2222222222222222,
              "#7201a8"
             ],
             [
              0.3333333333333333,
              "#9c179e"
             ],
             [
              0.4444444444444444,
              "#bd3786"
             ],
             [
              0.5555555555555556,
              "#d8576b"
             ],
             [
              0.6666666666666666,
              "#ed7953"
             ],
             [
              0.7777777777777778,
              "#fb9f3a"
             ],
             [
              0.8888888888888888,
              "#fdca26"
             ],
             [
              1,
              "#f0f921"
             ]
            ],
            "type": "heatmap"
           }
          ],
          "histogram": [
           {
            "marker": {
             "pattern": {
              "fillmode": "overlay",
              "size": 10,
              "solidity": 0.2
             }
            },
            "type": "histogram"
           }
          ],
          "histogram2d": [
           {
            "colorbar": {
             "outlinewidth": 0,
             "ticks": ""
            },
            "colorscale": [
             [
              0,
              "#0d0887"
             ],
             [
              0.1111111111111111,
              "#46039f"
             ],
             [
              0.2222222222222222,
              "#7201a8"
             ],
             [
              0.3333333333333333,
              "#9c179e"
             ],
             [
              0.4444444444444444,
              "#bd3786"
             ],
             [
              0.5555555555555556,
              "#d8576b"
             ],
             [
              0.6666666666666666,
              "#ed7953"
             ],
             [
              0.7777777777777778,
              "#fb9f3a"
             ],
             [
              0.8888888888888888,
              "#fdca26"
             ],
             [
              1,
              "#f0f921"
             ]
            ],
            "type": "histogram2d"
           }
          ],
          "histogram2dcontour": [
           {
            "colorbar": {
             "outlinewidth": 0,
             "ticks": ""
            },
            "colorscale": [
             [
              0,
              "#0d0887"
             ],
             [
              0.1111111111111111,
              "#46039f"
             ],
             [
              0.2222222222222222,
              "#7201a8"
             ],
             [
              0.3333333333333333,
              "#9c179e"
             ],
             [
              0.4444444444444444,
              "#bd3786"
             ],
             [
              0.5555555555555556,
              "#d8576b"
             ],
             [
              0.6666666666666666,
              "#ed7953"
             ],
             [
              0.7777777777777778,
              "#fb9f3a"
             ],
             [
              0.8888888888888888,
              "#fdca26"
             ],
             [
              1,
              "#f0f921"
             ]
            ],
            "type": "histogram2dcontour"
           }
          ],
          "mesh3d": [
           {
            "colorbar": {
             "outlinewidth": 0,
             "ticks": ""
            },
            "type": "mesh3d"
           }
          ],
          "parcoords": [
           {
            "line": {
             "colorbar": {
              "outlinewidth": 0,
              "ticks": ""
             }
            },
            "type": "parcoords"
           }
          ],
          "pie": [
           {
            "automargin": true,
            "type": "pie"
           }
          ],
          "scatter": [
           {
            "fillpattern": {
             "fillmode": "overlay",
             "size": 10,
             "solidity": 0.2
            },
            "type": "scatter"
           }
          ],
          "scatter3d": [
           {
            "line": {
             "colorbar": {
              "outlinewidth": 0,
              "ticks": ""
             }
            },
            "marker": {
             "colorbar": {
              "outlinewidth": 0,
              "ticks": ""
             }
            },
            "type": "scatter3d"
           }
          ],
          "scattercarpet": [
           {
            "marker": {
             "colorbar": {
              "outlinewidth": 0,
              "ticks": ""
             }
            },
            "type": "scattercarpet"
           }
          ],
          "scattergeo": [
           {
            "marker": {
             "colorbar": {
              "outlinewidth": 0,
              "ticks": ""
             }
            },
            "type": "scattergeo"
           }
          ],
          "scattergl": [
           {
            "marker": {
             "colorbar": {
              "outlinewidth": 0,
              "ticks": ""
             }
            },
            "type": "scattergl"
           }
          ],
          "scattermap": [
           {
            "marker": {
             "colorbar": {
              "outlinewidth": 0,
              "ticks": ""
             }
            },
            "type": "scattermap"
           }
          ],
          "scattermapbox": [
           {
            "marker": {
             "colorbar": {
              "outlinewidth": 0,
              "ticks": ""
             }
            },
            "type": "scattermapbox"
           }
          ],
          "scatterpolar": [
           {
            "marker": {
             "colorbar": {
              "outlinewidth": 0,
              "ticks": ""
             }
            },
            "type": "scatterpolar"
           }
          ],
          "scatterpolargl": [
           {
            "marker": {
             "colorbar": {
              "outlinewidth": 0,
              "ticks": ""
             }
            },
            "type": "scatterpolargl"
           }
          ],
          "scatterternary": [
           {
            "marker": {
             "colorbar": {
              "outlinewidth": 0,
              "ticks": ""
             }
            },
            "type": "scatterternary"
           }
          ],
          "surface": [
           {
            "colorbar": {
             "outlinewidth": 0,
             "ticks": ""
            },
            "colorscale": [
             [
              0,
              "#0d0887"
             ],
             [
              0.1111111111111111,
              "#46039f"
             ],
             [
              0.2222222222222222,
              "#7201a8"
             ],
             [
              0.3333333333333333,
              "#9c179e"
             ],
             [
              0.4444444444444444,
              "#bd3786"
             ],
             [
              0.5555555555555556,
              "#d8576b"
             ],
             [
              0.6666666666666666,
              "#ed7953"
             ],
             [
              0.7777777777777778,
              "#fb9f3a"
             ],
             [
              0.8888888888888888,
              "#fdca26"
             ],
             [
              1,
              "#f0f921"
             ]
            ],
            "type": "surface"
           }
          ],
          "table": [
           {
            "cells": {
             "fill": {
              "color": "#EBF0F8"
             },
             "line": {
              "color": "white"
             }
            },
            "header": {
             "fill": {
              "color": "#C8D4E3"
             },
             "line": {
              "color": "white"
             }
            },
            "type": "table"
           }
          ]
         },
         "layout": {
          "annotationdefaults": {
           "arrowcolor": "#2a3f5f",
           "arrowhead": 0,
           "arrowwidth": 1
          },
          "autotypenumbers": "strict",
          "coloraxis": {
           "colorbar": {
            "outlinewidth": 0,
            "ticks": ""
           }
          },
          "colorscale": {
           "diverging": [
            [
             0,
             "#8e0152"
            ],
            [
             0.1,
             "#c51b7d"
            ],
            [
             0.2,
             "#de77ae"
            ],
            [
             0.3,
             "#f1b6da"
            ],
            [
             0.4,
             "#fde0ef"
            ],
            [
             0.5,
             "#f7f7f7"
            ],
            [
             0.6,
             "#e6f5d0"
            ],
            [
             0.7,
             "#b8e186"
            ],
            [
             0.8,
             "#7fbc41"
            ],
            [
             0.9,
             "#4d9221"
            ],
            [
             1,
             "#276419"
            ]
           ],
           "sequential": [
            [
             0,
             "#0d0887"
            ],
            [
             0.1111111111111111,
             "#46039f"
            ],
            [
             0.2222222222222222,
             "#7201a8"
            ],
            [
             0.3333333333333333,
             "#9c179e"
            ],
            [
             0.4444444444444444,
             "#bd3786"
            ],
            [
             0.5555555555555556,
             "#d8576b"
            ],
            [
             0.6666666666666666,
             "#ed7953"
            ],
            [
             0.7777777777777778,
             "#fb9f3a"
            ],
            [
             0.8888888888888888,
             "#fdca26"
            ],
            [
             1,
             "#f0f921"
            ]
           ],
           "sequentialminus": [
            [
             0,
             "#0d0887"
            ],
            [
             0.1111111111111111,
             "#46039f"
            ],
            [
             0.2222222222222222,
             "#7201a8"
            ],
            [
             0.3333333333333333,
             "#9c179e"
            ],
            [
             0.4444444444444444,
             "#bd3786"
            ],
            [
             0.5555555555555556,
             "#d8576b"
            ],
            [
             0.6666666666666666,
             "#ed7953"
            ],
            [
             0.7777777777777778,
             "#fb9f3a"
            ],
            [
             0.8888888888888888,
             "#fdca26"
            ],
            [
             1,
             "#f0f921"
            ]
           ]
          },
          "colorway": [
           "#636efa",
           "#EF553B",
           "#00cc96",
           "#ab63fa",
           "#FFA15A",
           "#19d3f3",
           "#FF6692",
           "#B6E880",
           "#FF97FF",
           "#FECB52"
          ],
          "font": {
           "color": "#2a3f5f"
          },
          "geo": {
           "bgcolor": "white",
           "lakecolor": "white",
           "landcolor": "#E5ECF6",
           "showlakes": true,
           "showland": true,
           "subunitcolor": "white"
          },
          "hoverlabel": {
           "align": "left"
          },
          "hovermode": "closest",
          "mapbox": {
           "style": "light"
          },
          "paper_bgcolor": "white",
          "plot_bgcolor": "#E5ECF6",
          "polar": {
           "angularaxis": {
            "gridcolor": "white",
            "linecolor": "white",
            "ticks": ""
           },
           "bgcolor": "#E5ECF6",
           "radialaxis": {
            "gridcolor": "white",
            "linecolor": "white",
            "ticks": ""
           }
          },
          "scene": {
           "xaxis": {
            "backgroundcolor": "#E5ECF6",
            "gridcolor": "white",
            "gridwidth": 2,
            "linecolor": "white",
            "showbackground": true,
            "ticks": "",
            "zerolinecolor": "white"
           },
           "yaxis": {
            "backgroundcolor": "#E5ECF6",
            "gridcolor": "white",
            "gridwidth": 2,
            "linecolor": "white",
            "showbackground": true,
            "ticks": "",
            "zerolinecolor": "white"
           },
           "zaxis": {
            "backgroundcolor": "#E5ECF6",
            "gridcolor": "white",
            "gridwidth": 2,
            "linecolor": "white",
            "showbackground": true,
            "ticks": "",
            "zerolinecolor": "white"
           }
          },
          "shapedefaults": {
           "line": {
            "color": "#2a3f5f"
           }
          },
          "ternary": {
           "aaxis": {
            "gridcolor": "white",
            "linecolor": "white",
            "ticks": ""
           },
           "baxis": {
            "gridcolor": "white",
            "linecolor": "white",
            "ticks": ""
           },
           "bgcolor": "#E5ECF6",
           "caxis": {
            "gridcolor": "white",
            "linecolor": "white",
            "ticks": ""
           }
          },
          "title": {
           "x": 0.05
          },
          "xaxis": {
           "automargin": true,
           "gridcolor": "white",
           "linecolor": "white",
           "ticks": "",
           "title": {
            "standoff": 15
           },
           "zerolinecolor": "white",
           "zerolinewidth": 2
          },
          "yaxis": {
           "automargin": true,
           "gridcolor": "white",
           "linecolor": "white",
           "ticks": "",
           "title": {
            "standoff": 15
           },
           "zerolinecolor": "white",
           "zerolinewidth": 2
          }
         }
        },
        "xaxis": {
         "anchor": "y",
         "domain": [
          0,
          1
         ],
         "title": {
          "text": "inovacao"
         }
        },
        "yaxis": {
         "anchor": "x",
         "domain": [
          0,
          1
         ],
         "title": {
          "text": "faturamento_mensal"
         }
        }
       }
      }
     },
     "metadata": {},
     "output_type": "display_data"
    }
   ],
   "source": [
    "# Cruzar dados de inovação, faturamento mensal e clusters\n",
    "px.scatter(df_clientes, x='inovacao', y='faturamento_mensal', color='cluster')"
   ]
  },
  {
   "cell_type": "code",
   "execution_count": null,
   "metadata": {},
   "outputs": [
    {
     "data": {
      "application/vnd.plotly.v1+json": {
       "config": {
        "plotlyServerURL": "https://plot.ly"
       },
       "data": [
        {
         "hovertemplate": "inovacao=%{x}<br>idade=%{y}<br>cluster=%{marker.color}<extra></extra>",
         "legendgroup": "",
         "marker": {
          "color": {
           "bdata": "AAABAAECAAEAAgICAQIBAQEAAQIAAAICAAABAQAAAAECAQICAgEBAQECAgIAAQIAAQEBAAACAAAAAAIBAQIAAQECAgAAAAIAAAECAAACAgEBAAABAgEBAAABAAICAAABAQEBAgAAAgIAAgECAgEBAQEBAAABAAICAAACAgEAAQICAQEAAAIAAAEBAAIBAAAAAQABAAEBAAICAQABAQEAAAIBAQECAgAAAQEBAQACAQABAQEBAAIBAQECAQABAQEAAgEAAQAAAgICAQEAAAECAAIAAAAAAAACAgEAAAECAQEBAQABAAIAAgEBAAECAgECAQIAAAABAgEBAQEAAAABAgEBAQACAQABAAIBAQACAQEAAQECAgECAQIBAAABAQEBAgAAAQACAQABAgEAAgEBAAABAQICAAACAAAAAAECAQAAAQABAQEBAQABAQACAQICAAABAQECAQAAAQABAgECAAEBAgECAgECAQABAQIAAAABAgAAAgIBAQICAAECAQABAQIAAQEBAQIAAgEBAAEBAQACAQACAQECAAAAAQIBAQIBAgECAQICAgACAgEAAQIAAAABAgEBAAECAQEBAgAAAgECAAIAAQACAQECAQEBAgAAAAIBAAIAAAEBAgICAQAAAgEBAAEAAAICAAIAAAEAAAEAAgE=",
           "dtype": "i1"
          },
          "coloraxis": "coloraxis",
          "symbol": "circle"
         },
         "mode": "markers",
         "name": "",
         "orientation": "v",
         "showlegend": false,
         "type": "scatter",
         "x": {
          "bdata": "AQAJAAgEAQYBAwQEBgMIBwgABwUCAgQFAgEHBgIBAgkFBgUDBQYIBwYDAwQBCQMACAcGAQIDAAACAQUJCQQBBwgDBQIAAQUBAQcFAgIDBQgHAgIHAwkGAQAGAAMEAQIIBwYJBAEBBAUAAwgDBQkIBwcHAAIIAAQDAAIFBAkCCQQECQYAAQMCAgkGAAQHAAECCQIHAAYGAgMFBwIGBwcCAgQJCAYDBQEBCQcJBgIEBgAJCQgHAAQHCQYFCAEJCAkAAwgBCAEABAQDCAcBAAcEAQUAAAIBAAIEAwkBAAkFBgYHCAIIAAMAAwcGAgcFBAgEBwMBAgIJAwYIBgkAAAEGBQcGBwAFCQIIAgQJBwADBwYACAYFBAcFBgQJAgAHBwgIBAIBCAEDCQAGBAgBBQgGAQEICAMFAgADAQECAAcDCQECBgIHBwYJBgEJBgEDCAMEAgAJCQkEBgECBwAGAwgFAAYHBQYDBQcDBwAICAUCAQAIBAIBBAQJBwUDAgYFCQAICQMCBwgIBgMBBQYHAQgHBgIECQEECQgDAQECBgUHBgQGAwkDBwMEAwEDBQYCBwMAAQIJBQYGAQYFCQYJBAIABAgFAQUBBgEEBwYEBwYHBQIAAQMIAgUAAAcIBAMECAACBQcIAAkCAQUFAQMAAggBAgkAAwk=",
          "dtype": "i1"
         },
         "xaxis": "x",
         "y": {
          "bdata": "Bg8EBg8LAAoKCQoJCwkICAgMCgwGEAkNDwcHCQQMAwcMBwUMDAkLBwYJBwYODQwICQkNCAwMAwwICQoHBwoGCggJCgIKDgYNCwYNDAgKCQkJDA0EBwoHDQoLCQoJBwoMCgcPAwUICQQLCgcHCQ4JDAsOCggOCQwLCxADBwsHCgcLBQgLCQgMCgoHBwoKBhAMBwwHBgUHCw0KCgsHDQoNDw0CCwkJDAoFBAsQBwQICQgHBg0IDAYJCwcFDAYKCAoKBwwGCgcICg8FCAoMCQgICgQNDAkHCQYOBwkKBgYMCQsKCAkCDQkHCAcMCAcFBQ0HBQ0GCQULCAQLBgkNBwYJCAgKEAoJCAkHCgwKCQgFBQkLCw4NCQgJDAkKDAwMCQoFDQcNCwcHEAsMDwQHDAcLDQwLCQkGBA4LCwYHDgYLBwwJCQoHBgwKCQYIAg4FCQoDCwkKDAoNCAkGDAoGCgsIBw0LBwgKCg0JCAcJCggICAgJDwsPCwoNDAYMBwYECggICAcICwgMCBAMCwwKEAcLCwUKCggIDAwHDA4KBggIDgMLDA0GBg0JCAsLCAsLBwoNCQwJCwoPCgQNBwoKCAoFEAgHCgoFCwUKCgQGCwkPBxALDAsKDw0HCAQLBgkLCwgGBQENCwUMDQcNBwcICQQKCAYKBQQ=",
          "dtype": "i1"
         },
         "yaxis": "y"
        }
       ],
       "layout": {
        "coloraxis": {
         "colorbar": {
          "title": {
           "text": "cluster"
          }
         },
         "colorscale": [
          [
           0,
           "#0d0887"
          ],
          [
           0.1111111111111111,
           "#46039f"
          ],
          [
           0.2222222222222222,
           "#7201a8"
          ],
          [
           0.3333333333333333,
           "#9c179e"
          ],
          [
           0.4444444444444444,
           "#bd3786"
          ],
          [
           0.5555555555555556,
           "#d8576b"
          ],
          [
           0.6666666666666666,
           "#ed7953"
          ],
          [
           0.7777777777777778,
           "#fb9f3a"
          ],
          [
           0.8888888888888888,
           "#fdca26"
          ],
          [
           1,
           "#f0f921"
          ]
         ]
        },
        "legend": {
         "tracegroupgap": 0
        },
        "margin": {
         "t": 60
        },
        "template": {
         "data": {
          "bar": [
           {
            "error_x": {
             "color": "#2a3f5f"
            },
            "error_y": {
             "color": "#2a3f5f"
            },
            "marker": {
             "line": {
              "color": "#E5ECF6",
              "width": 0.5
             },
             "pattern": {
              "fillmode": "overlay",
              "size": 10,
              "solidity": 0.2
             }
            },
            "type": "bar"
           }
          ],
          "barpolar": [
           {
            "marker": {
             "line": {
              "color": "#E5ECF6",
              "width": 0.5
             },
             "pattern": {
              "fillmode": "overlay",
              "size": 10,
              "solidity": 0.2
             }
            },
            "type": "barpolar"
           }
          ],
          "carpet": [
           {
            "aaxis": {
             "endlinecolor": "#2a3f5f",
             "gridcolor": "white",
             "linecolor": "white",
             "minorgridcolor": "white",
             "startlinecolor": "#2a3f5f"
            },
            "baxis": {
             "endlinecolor": "#2a3f5f",
             "gridcolor": "white",
             "linecolor": "white",
             "minorgridcolor": "white",
             "startlinecolor": "#2a3f5f"
            },
            "type": "carpet"
           }
          ],
          "choropleth": [
           {
            "colorbar": {
             "outlinewidth": 0,
             "ticks": ""
            },
            "type": "choropleth"
           }
          ],
          "contour": [
           {
            "colorbar": {
             "outlinewidth": 0,
             "ticks": ""
            },
            "colorscale": [
             [
              0,
              "#0d0887"
             ],
             [
              0.1111111111111111,
              "#46039f"
             ],
             [
              0.2222222222222222,
              "#7201a8"
             ],
             [
              0.3333333333333333,
              "#9c179e"
             ],
             [
              0.4444444444444444,
              "#bd3786"
             ],
             [
              0.5555555555555556,
              "#d8576b"
             ],
             [
              0.6666666666666666,
              "#ed7953"
             ],
             [
              0.7777777777777778,
              "#fb9f3a"
             ],
             [
              0.8888888888888888,
              "#fdca26"
             ],
             [
              1,
              "#f0f921"
             ]
            ],
            "type": "contour"
           }
          ],
          "contourcarpet": [
           {
            "colorbar": {
             "outlinewidth": 0,
             "ticks": ""
            },
            "type": "contourcarpet"
           }
          ],
          "heatmap": [
           {
            "colorbar": {
             "outlinewidth": 0,
             "ticks": ""
            },
            "colorscale": [
             [
              0,
              "#0d0887"
             ],
             [
              0.1111111111111111,
              "#46039f"
             ],
             [
              0.2222222222222222,
              "#7201a8"
             ],
             [
              0.3333333333333333,
              "#9c179e"
             ],
             [
              0.4444444444444444,
              "#bd3786"
             ],
             [
              0.5555555555555556,
              "#d8576b"
             ],
             [
              0.6666666666666666,
              "#ed7953"
             ],
             [
              0.7777777777777778,
              "#fb9f3a"
             ],
             [
              0.8888888888888888,
              "#fdca26"
             ],
             [
              1,
              "#f0f921"
             ]
            ],
            "type": "heatmap"
           }
          ],
          "histogram": [
           {
            "marker": {
             "pattern": {
              "fillmode": "overlay",
              "size": 10,
              "solidity": 0.2
             }
            },
            "type": "histogram"
           }
          ],
          "histogram2d": [
           {
            "colorbar": {
             "outlinewidth": 0,
             "ticks": ""
            },
            "colorscale": [
             [
              0,
              "#0d0887"
             ],
             [
              0.1111111111111111,
              "#46039f"
             ],
             [
              0.2222222222222222,
              "#7201a8"
             ],
             [
              0.3333333333333333,
              "#9c179e"
             ],
             [
              0.4444444444444444,
              "#bd3786"
             ],
             [
              0.5555555555555556,
              "#d8576b"
             ],
             [
              0.6666666666666666,
              "#ed7953"
             ],
             [
              0.7777777777777778,
              "#fb9f3a"
             ],
             [
              0.8888888888888888,
              "#fdca26"
             ],
             [
              1,
              "#f0f921"
             ]
            ],
            "type": "histogram2d"
           }
          ],
          "histogram2dcontour": [
           {
            "colorbar": {
             "outlinewidth": 0,
             "ticks": ""
            },
            "colorscale": [
             [
              0,
              "#0d0887"
             ],
             [
              0.1111111111111111,
              "#46039f"
             ],
             [
              0.2222222222222222,
              "#7201a8"
             ],
             [
              0.3333333333333333,
              "#9c179e"
             ],
             [
              0.4444444444444444,
              "#bd3786"
             ],
             [
              0.5555555555555556,
              "#d8576b"
             ],
             [
              0.6666666666666666,
              "#ed7953"
             ],
             [
              0.7777777777777778,
              "#fb9f3a"
             ],
             [
              0.8888888888888888,
              "#fdca26"
             ],
             [
              1,
              "#f0f921"
             ]
            ],
            "type": "histogram2dcontour"
           }
          ],
          "mesh3d": [
           {
            "colorbar": {
             "outlinewidth": 0,
             "ticks": ""
            },
            "type": "mesh3d"
           }
          ],
          "parcoords": [
           {
            "line": {
             "colorbar": {
              "outlinewidth": 0,
              "ticks": ""
             }
            },
            "type": "parcoords"
           }
          ],
          "pie": [
           {
            "automargin": true,
            "type": "pie"
           }
          ],
          "scatter": [
           {
            "fillpattern": {
             "fillmode": "overlay",
             "size": 10,
             "solidity": 0.2
            },
            "type": "scatter"
           }
          ],
          "scatter3d": [
           {
            "line": {
             "colorbar": {
              "outlinewidth": 0,
              "ticks": ""
             }
            },
            "marker": {
             "colorbar": {
              "outlinewidth": 0,
              "ticks": ""
             }
            },
            "type": "scatter3d"
           }
          ],
          "scattercarpet": [
           {
            "marker": {
             "colorbar": {
              "outlinewidth": 0,
              "ticks": ""
             }
            },
            "type": "scattercarpet"
           }
          ],
          "scattergeo": [
           {
            "marker": {
             "colorbar": {
              "outlinewidth": 0,
              "ticks": ""
             }
            },
            "type": "scattergeo"
           }
          ],
          "scattergl": [
           {
            "marker": {
             "colorbar": {
              "outlinewidth": 0,
              "ticks": ""
             }
            },
            "type": "scattergl"
           }
          ],
          "scattermap": [
           {
            "marker": {
             "colorbar": {
              "outlinewidth": 0,
              "ticks": ""
             }
            },
            "type": "scattermap"
           }
          ],
          "scattermapbox": [
           {
            "marker": {
             "colorbar": {
              "outlinewidth": 0,
              "ticks": ""
             }
            },
            "type": "scattermapbox"
           }
          ],
          "scatterpolar": [
           {
            "marker": {
             "colorbar": {
              "outlinewidth": 0,
              "ticks": ""
             }
            },
            "type": "scatterpolar"
           }
          ],
          "scatterpolargl": [
           {
            "marker": {
             "colorbar": {
              "outlinewidth": 0,
              "ticks": ""
             }
            },
            "type": "scatterpolargl"
           }
          ],
          "scatterternary": [
           {
            "marker": {
             "colorbar": {
              "outlinewidth": 0,
              "ticks": ""
             }
            },
            "type": "scatterternary"
           }
          ],
          "surface": [
           {
            "colorbar": {
             "outlinewidth": 0,
             "ticks": ""
            },
            "colorscale": [
             [
              0,
              "#0d0887"
             ],
             [
              0.1111111111111111,
              "#46039f"
             ],
             [
              0.2222222222222222,
              "#7201a8"
             ],
             [
              0.3333333333333333,
              "#9c179e"
             ],
             [
              0.4444444444444444,
              "#bd3786"
             ],
             [
              0.5555555555555556,
              "#d8576b"
             ],
             [
              0.6666666666666666,
              "#ed7953"
             ],
             [
              0.7777777777777778,
              "#fb9f3a"
             ],
             [
              0.8888888888888888,
              "#fdca26"
             ],
             [
              1,
              "#f0f921"
             ]
            ],
            "type": "surface"
           }
          ],
          "table": [
           {
            "cells": {
             "fill": {
              "color": "#EBF0F8"
             },
             "line": {
              "color": "white"
             }
            },
            "header": {
             "fill": {
              "color": "#C8D4E3"
             },
             "line": {
              "color": "white"
             }
            },
            "type": "table"
           }
          ]
         },
         "layout": {
          "annotationdefaults": {
           "arrowcolor": "#2a3f5f",
           "arrowhead": 0,
           "arrowwidth": 1
          },
          "autotypenumbers": "strict",
          "coloraxis": {
           "colorbar": {
            "outlinewidth": 0,
            "ticks": ""
           }
          },
          "colorscale": {
           "diverging": [
            [
             0,
             "#8e0152"
            ],
            [
             0.1,
             "#c51b7d"
            ],
            [
             0.2,
             "#de77ae"
            ],
            [
             0.3,
             "#f1b6da"
            ],
            [
             0.4,
             "#fde0ef"
            ],
            [
             0.5,
             "#f7f7f7"
            ],
            [
             0.6,
             "#e6f5d0"
            ],
            [
             0.7,
             "#b8e186"
            ],
            [
             0.8,
             "#7fbc41"
            ],
            [
             0.9,
             "#4d9221"
            ],
            [
             1,
             "#276419"
            ]
           ],
           "sequential": [
            [
             0,
             "#0d0887"
            ],
            [
             0.1111111111111111,
             "#46039f"
            ],
            [
             0.2222222222222222,
             "#7201a8"
            ],
            [
             0.3333333333333333,
             "#9c179e"
            ],
            [
             0.4444444444444444,
             "#bd3786"
            ],
            [
             0.5555555555555556,
             "#d8576b"
            ],
            [
             0.6666666666666666,
             "#ed7953"
            ],
            [
             0.7777777777777778,
             "#fb9f3a"
            ],
            [
             0.8888888888888888,
             "#fdca26"
            ],
            [
             1,
             "#f0f921"
            ]
           ],
           "sequentialminus": [
            [
             0,
             "#0d0887"
            ],
            [
             0.1111111111111111,
             "#46039f"
            ],
            [
             0.2222222222222222,
             "#7201a8"
            ],
            [
             0.3333333333333333,
             "#9c179e"
            ],
            [
             0.4444444444444444,
             "#bd3786"
            ],
            [
             0.5555555555555556,
             "#d8576b"
            ],
            [
             0.6666666666666666,
             "#ed7953"
            ],
            [
             0.7777777777777778,
             "#fb9f3a"
            ],
            [
             0.8888888888888888,
             "#fdca26"
            ],
            [
             1,
             "#f0f921"
            ]
           ]
          },
          "colorway": [
           "#636efa",
           "#EF553B",
           "#00cc96",
           "#ab63fa",
           "#FFA15A",
           "#19d3f3",
           "#FF6692",
           "#B6E880",
           "#FF97FF",
           "#FECB52"
          ],
          "font": {
           "color": "#2a3f5f"
          },
          "geo": {
           "bgcolor": "white",
           "lakecolor": "white",
           "landcolor": "#E5ECF6",
           "showlakes": true,
           "showland": true,
           "subunitcolor": "white"
          },
          "hoverlabel": {
           "align": "left"
          },
          "hovermode": "closest",
          "mapbox": {
           "style": "light"
          },
          "paper_bgcolor": "white",
          "plot_bgcolor": "#E5ECF6",
          "polar": {
           "angularaxis": {
            "gridcolor": "white",
            "linecolor": "white",
            "ticks": ""
           },
           "bgcolor": "#E5ECF6",
           "radialaxis": {
            "gridcolor": "white",
            "linecolor": "white",
            "ticks": ""
           }
          },
          "scene": {
           "xaxis": {
            "backgroundcolor": "#E5ECF6",
            "gridcolor": "white",
            "gridwidth": 2,
            "linecolor": "white",
            "showbackground": true,
            "ticks": "",
            "zerolinecolor": "white"
           },
           "yaxis": {
            "backgroundcolor": "#E5ECF6",
            "gridcolor": "white",
            "gridwidth": 2,
            "linecolor": "white",
            "showbackground": true,
            "ticks": "",
            "zerolinecolor": "white"
           },
           "zaxis": {
            "backgroundcolor": "#E5ECF6",
            "gridcolor": "white",
            "gridwidth": 2,
            "linecolor": "white",
            "showbackground": true,
            "ticks": "",
            "zerolinecolor": "white"
           }
          },
          "shapedefaults": {
           "line": {
            "color": "#2a3f5f"
           }
          },
          "ternary": {
           "aaxis": {
            "gridcolor": "white",
            "linecolor": "white",
            "ticks": ""
           },
           "baxis": {
            "gridcolor": "white",
            "linecolor": "white",
            "ticks": ""
           },
           "bgcolor": "#E5ECF6",
           "caxis": {
            "gridcolor": "white",
            "linecolor": "white",
            "ticks": ""
           }
          },
          "title": {
           "x": 0.05
          },
          "xaxis": {
           "automargin": true,
           "gridcolor": "white",
           "linecolor": "white",
           "ticks": "",
           "title": {
            "standoff": 15
           },
           "zerolinecolor": "white",
           "zerolinewidth": 2
          },
          "yaxis": {
           "automargin": true,
           "gridcolor": "white",
           "linecolor": "white",
           "ticks": "",
           "title": {
            "standoff": 15
           },
           "zerolinecolor": "white",
           "zerolinewidth": 2
          }
         }
        },
        "xaxis": {
         "anchor": "y",
         "domain": [
          0,
          1
         ],
         "title": {
          "text": "inovacao"
         }
        },
        "yaxis": {
         "anchor": "x",
         "domain": [
          0,
          1
         ],
         "title": {
          "text": "idade"
         }
        }
       }
      }
     },
     "metadata": {},
     "output_type": "display_data"
    }
   ],
   "source": [
    "# Cruzar dados de inovação, idade e clusters\n",
    "px.scatter(df_clientes, x='inovacao', y='idade', color='cluster')"
   ]
  },
  {
   "cell_type": "markdown",
   "metadata": {},
   "source": [
    "### Salvar Modelo e Pipeline de Transformação"
   ]
  },
  {
   "cell_type": "code",
   "execution_count": 54,
   "metadata": {},
   "outputs": [
    {
     "data": {
      "text/plain": [
       "['pipeline_clusterizacao_clientes_gmm.pkl']"
      ]
     },
     "execution_count": 54,
     "metadata": {},
     "output_type": "execute_result"
    }
   ],
   "source": [
    "import joblib\n",
    "\n",
    "# Salvar Modelo\n",
    "joblib.dump(best_gmm, 'modelo_clusterizacao_clientes_gmm.pkl')\n",
    "\n",
    "# Salvar Pipeline\n",
    "joblib.dump(preprocessor, 'pipeline_clusterizacao_clientes_gmm.pkl')"
   ]
  },
  {
   "cell_type": "markdown",
   "metadata": {},
   "source": [
    "### Aplicação de geração dos Clusters\n",
    "\n",
    "- Lê arquivo\n",
    "- Aplica modelo\n",
    "- Gera arquivo com Cluster"
   ]
  },
  {
   "cell_type": "code",
   "execution_count": 55,
   "metadata": {},
   "outputs": [],
   "source": [
    "import gradio as gr\n",
    "\n",
    "modelo = joblib.load('./modelo_clusterizacao_clientes_gmm.pkl')\n",
    "pipeline = joblib.load('./pipeline_clusterizacao_clientes_gmm.pkl')"
   ]
  },
  {
   "cell_type": "code",
   "execution_count": 56,
   "metadata": {},
   "outputs": [],
   "source": [
    "def clustering(arquivo):\n",
    "    # Carregar dados do arquivo (upload) para um dataframe Pandas\n",
    "    df_empresas = pd.read_csv(arquivo.name)\n",
    "\n",
    "    # Transformar os dado do Dataframe para o modelo\n",
    "    X_transformed = pipeline.fit_transform(df_empresas)\n",
    "\n",
    "    # Treinar o modelo GMM\n",
    "    modelo.fit(X_transformed)\n",
    "\n",
    "    # Fazer Predições\n",
    "    clusters_empresas = modelo.predict(X_transformed)\n",
    "\n",
    "    # Criar coluna no Dataframe com Cluster\n",
    "    df_empresas['cluster'] = clusters_empresas.astype(int)\n",
    "\n",
    "    # Salvar dataframe para um arquivo\n",
    "    df_empresas.to_csv('./clusters_empresas_gmm.csv', index=False)\n",
    "\n",
    "    return './clusters_empresas_gmm.csv'\n"
   ]
  },
  {
   "cell_type": "code",
   "execution_count": 57,
   "metadata": {},
   "outputs": [
    {
     "name": "stdout",
     "output_type": "stream",
     "text": [
      "* Running on local URL:  http://127.0.0.1:7861\n",
      "\n",
      "To create a public link, set `share=True` in `launch()`.\n"
     ]
    },
    {
     "data": {
      "text/html": [
       "<div><iframe src=\"http://127.0.0.1:7861/\" width=\"100%\" height=\"500\" allow=\"autoplay; camera; microphone; clipboard-read; clipboard-write;\" frameborder=\"0\" allowfullscreen></iframe></div>"
      ],
      "text/plain": [
       "<IPython.core.display.HTML object>"
      ]
     },
     "metadata": {},
     "output_type": "display_data"
    },
    {
     "data": {
      "text/plain": []
     },
     "execution_count": 57,
     "metadata": {},
     "output_type": "execute_result"
    }
   ],
   "source": [
    "# Executar Front-End no Gradio\n",
    "app = gr.Interface(\n",
    "    clustering,\n",
    "    gr.File(file_types=['.csv']),\n",
    "    'file'\n",
    ")\n",
    "\n",
    "app.launch()"
   ]
  }
 ],
 "metadata": {
  "kernelspec": {
   "display_name": "ai_unsupervised_supplementary_study-b8zyjZd1",
   "language": "python",
   "name": "python3"
  },
  "language_info": {
   "codemirror_mode": {
    "name": "ipython",
    "version": 3
   },
   "file_extension": ".py",
   "mimetype": "text/x-python",
   "name": "python",
   "nbconvert_exporter": "python",
   "pygments_lexer": "ipython3",
   "version": "3.13.1"
  }
 },
 "nbformat": 4,
 "nbformat_minor": 2
}
